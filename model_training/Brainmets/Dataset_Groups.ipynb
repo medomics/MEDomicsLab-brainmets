{
 "cells": [
  {
   "cell_type": "code",
   "execution_count": 1,
   "metadata": {},
   "outputs": [
    {
     "name": "stderr",
     "output_type": "stream",
     "text": [
      "Using TensorFlow backend.\n"
     ]
    }
   ],
   "source": [
    "from Brainmets.utils import *\n",
    "from Brainmets.dataset import *\n",
    "from Brainmets.augmentations import Transformer\n",
    "from Brainmets.losses import *\n",
    "from Brainmets.trainer import *\n",
    "from Brainmets.evaluation import *"
   ]
  },
  {
   "cell_type": "code",
   "execution_count": 3,
   "metadata": {},
   "outputs": [
    {
     "name": "stdout",
     "output_type": "stream",
     "text": [
      "[16, 32, 64, 128, 256, 512]\n"
     ]
    }
   ],
   "source": [
    "device = torch.device('cuda: 1')\n",
    "model = ResidualUNet3D(1, 1, True).to(device)\n",
    "model_name = 'nearest/Baseline-Diceloss-test_3-0.001/epoch_38_val_score=0.7961517106553521.pth'\n",
    "state_dict = torch.load(model_name)"
   ]
  },
  {
   "cell_type": "code",
   "execution_count": null,
   "metadata": {},
   "outputs": [],
   "source": [
    "model.load_state_dict(state_dict)"
   ]
  },
  {
   "cell_type": "code",
   "execution_count": 3,
   "metadata": {},
   "outputs": [],
   "source": [
    "data_path = Path('/home/chens/practicum/MEDomicsLab-develop-brainmets/model_training/3_unet_3d_residual/data/')\n",
    "data = 'manuscript_1_datasets_first_tx_allmets'\n",
    "df = pd.read_csv(data_path/f'{data}.csv')"
   ]
  },
  {
   "cell_type": "code",
   "execution_count": 21,
   "metadata": {},
   "outputs": [],
   "source": [
    "train_df = df[df['split'] == 'train'].sample(frac=1)\n",
    "valid_df = df[df['split'] == 'valid'].sample(frac=1)\n",
    "test_df = df[df['split'] == 'test'].sample(frac=1)\n",
    "\n",
    "train_img_files = list(train_df['img_files'])\n",
    "train_mask_files = list(train_df['mask_files'])\n",
    "valid_img_files = list(valid_df['img_files'])\n",
    "valid_mask_files = list(valid_df['mask_files'])\n",
    "test_img_files = list(test_df['img_files'])\n",
    "test_mask_files = list(test_df['mask_files'])\n",
    "\n",
    "# train_dataset = MetDataSet(train_df)\n",
    "# valid_dataset = MetDataSet(valid_df)\n",
    "# test_dataset = MetDataSet(test_df)"
   ]
  },
  {
   "cell_type": "code",
   "execution_count": 4,
   "metadata": {},
   "outputs": [],
   "source": [
    "test_loader = DataLoader(test_dataset, batch_size=1, shuffle=False, pin_memory=False, num_workers=4)"
   ]
  },
  {
   "cell_type": "code",
   "execution_count": null,
   "metadata": {},
   "outputs": [],
   "source": [
    "metrics = compute_per_channel_dice\n",
    "model.eval()\n",
    "total_test_loss = 0\n",
    "total_test_score = 0\n",
    "for index, test_batch in tqdm(\n",
    "    enumerate(\n",
    "        test_loader), total=len(\n",
    "        test_loader)):\n",
    "    test_sample_img, test_sample_mask = test_batch\n",
    "    test_sample_img = test_sample_img.to(device).float()\n",
    "    test_sample_mask = test_sample_mask.to(device).float()\n",
    "    del test_batch\n",
    "    gc.collect()\n",
    "    with torch.no_grad():\n",
    "        test_predicted_mask = model(test_sample_img)\n",
    "    test_score = metrics(test_predicted_mask, test_sample_mask)\n",
    "    total_test_score += test_score.item()\n",
    "    del test_sample_img, test_sample_mask, test_predicted_mask, test_score\n",
    "    gc.collect()\n",
    "print('test_score: ' + str(total_test_score / len(test_dataset)))\n",
    "torch.cuda.empty_cache()\n",
    "test_score = total_test_score / len(test_dataset)"
   ]
  },
  {
   "cell_type": "code",
   "execution_count": 5,
   "metadata": {},
   "outputs": [],
   "source": [
    "mask = test_dataset[0][1][0]"
   ]
  },
  {
   "cell_type": "code",
   "execution_count": 6,
   "metadata": {},
   "outputs": [
    {
     "data": {
      "text/plain": [
       "<matplotlib.image.AxesImage at 0x7fa610edcac8>"
      ]
     },
     "execution_count": 6,
     "metadata": {},
     "output_type": "execute_result"
    },
    {
     "data": {
      "image/png": "[encoded data removed]",
      "text/plain": [
       "<Figure size 432x288 with 1 Axes>"
      ]
     },
     "metadata": {
      "needs_background": "light"
     },
     "output_type": "display_data"
    }
   ],
   "source": [
    "plt.imshow(mask[44])"
   ]
  },
  {
   "cell_type": "code",
   "execution_count": 22,
   "metadata": {},
   "outputs": [],
   "source": [
    "from scipy import ndimage"
   ]
  },
  {
   "cell_type": "code",
   "execution_count": 23,
   "metadata": {},
   "outputs": [],
   "source": [
    "def met_volume(image,res):\n",
    "    numMets = np.amax(image)# max number\n",
    "    metNum, counts = np.unique(image.flatten(), return_counts=True)\n",
    "    return np.asarray(counts[1:]*res)"
   ]
  },
  {
   "cell_type": "code",
   "execution_count": 26,
   "metadata": {},
   "outputs": [],
   "source": [
    "def size_filter(mask, size, return_volumes=False):\n",
    "    new_mask = ndimage.label(mask)[0]\n",
    "    volumes = met_volume(new_mask, 0.003)\n",
    "    if return_volumes:\n",
    "        return volumes\n",
    "    index_to_keep = np.arange(1, len(volumes)+1)[np.logical_and(volumes>=size[0], volumes<=size[1])]\n",
    "    for index in np.arange(1, len(volumes)+1):\n",
    "        if index not in index_to_keep:\n",
    "            new_mask[new_mask==index] = 0\n",
    "        else:\n",
    "            new_mask[new_mask==index] = 1\n",
    "    return new_mask"
   ]
  },
  {
   "cell_type": "code",
   "execution_count": 19,
   "metadata": {},
   "outputs": [
    {
     "name": "stdout",
     "output_type": "stream",
     "text": [
      "[ 1.2   1.86  0.3   2.04  0.48  0.24  0.39  1.38  0.39  2.01  3.93 18.\n",
      " 10.71  0.93  3.93  1.98]\n"
     ]
    }
   ],
   "source": [
    "filtered_mask = size_filter(mask, [0.5,1])"
   ]
  },
  {
   "cell_type": "code",
   "execution_count": 20,
   "metadata": {},
   "outputs": [
    {
     "data": {
      "text/plain": [
       "array([0.93])"
      ]
     },
     "execution_count": 20,
     "metadata": {},
     "output_type": "execute_result"
    }
   ],
   "source": [
    "met_volume(ndimage.label(filtered_mask)[0], 0.03)"
   ]
  },
  {
   "cell_type": "code",
   "execution_count": 21,
   "metadata": {},
   "outputs": [
    {
     "data": {
      "text/plain": [
       "<matplotlib.image.AxesImage at 0x7fa61066bfd0>"
      ]
     },
     "execution_count": 21,
     "metadata": {},
     "output_type": "execute_result"
    },
    {
     "data": {
      "image/png": "[encoded data removed]",
      "text/plain": [
       "<Figure size 432x288 with 1 Axes>"
      ]
     },
     "metadata": {
      "needs_background": "light"
     },
     "output_type": "display_data"
    }
   ],
   "source": [
    "plt.imshow(filtered_mask[44])"
   ]
  },
  {
   "cell_type": "code",
   "execution_count": 61,
   "metadata": {},
   "outputs": [],
   "source": [
    "def location_filter(mask, location, return_locations=False):\n",
    "    new_mask = ndimage.label(mask)[0]\n",
    "    labels = ndimage.label(mask)[0]\n",
    "    index_to_keep = []\n",
    "    if return_locations:\n",
    "        locations = []\n",
    "        for i in range(1, labels.max()+1):\n",
    "            cm_i = ndimage.measurements.center_of_mass(mask, labels, i)\n",
    "            if cm_i[0] >= 25 and cm_i[2] < 128 and cm_i[1] >= 150: # right front cortex\n",
    "                locations.append('right_front')\n",
    "            elif cm_i[0] >= 25 and cm_i[2] >= 128 and cm_i[1] >= 150: # left front cortex\n",
    "                locations.append('left_front')\n",
    "            elif cm_i[0] >= 25 and cm_i[2] < 128 and cm_i[1] < 150: # right pos cortex\n",
    "                locations.append('right_pos')\n",
    "            elif cm_i[0] >= 25 and cm_i[2] >= 128 and cm_i[1] < 150: # left pos cortex\n",
    "                locations.append('left_pos')\n",
    "            elif cm_i[0] < 25 and cm_i[2] < 128: # right cerebellum\n",
    "                locations.append('right_cerebellum')\n",
    "            elif cm_i[0] < 25 and cm_i[2] >= 128: # left cerebellum\n",
    "                locations.append('left_cerebellum')\n",
    "        return locations\n",
    "    for i in range(1, labels.max()+1):\n",
    "        cm_i = ndimage.measurements.center_of_mass(mask, labels, i)\n",
    "        if ((location == 'right_front') and (cm_i[0] >= 25 and cm_i[2] < 128 and cm_i[1] >= 150)) or \\\n",
    "           ((location == 'left_front') and (cm_i[0] >= 25 and cm_i[2] >= 128 and cm_i[1] >= 150)) or \\\n",
    "           ((location == 'right_pos') and (cm_i[0] >= 25 and cm_i[2] < 128 and cm_i[1] < 150)) or \\\n",
    "           ((location == 'left_pos') and (cm_i[0] >= 25 and cm_i[2] >= 128 and cm_i[1] < 150)) or \\\n",
    "           ((location == 'right_cerebellum') and (cm_i[0] < 25 and cm_i[2] < 128)) or \\\n",
    "           ((location == 'left_cerebellum') and (cm_i[0] < 25 and cm_i[2] >= 128)):\n",
    "            index_to_keep.append(i)\n",
    "    for index in np.arange(1, len(labels)+1):\n",
    "        if index not in index_to_keep:\n",
    "            new_mask[new_mask==index] = 0\n",
    "        else:\n",
    "            new_mask[new_mask==index] = 1\n",
    "    return new_mask"
   ]
  },
  {
   "cell_type": "code",
   "execution_count": 23,
   "metadata": {},
   "outputs": [
    {
     "data": {
      "text/plain": [
       "<matplotlib.image.AxesImage at 0x7fa610655128>"
      ]
     },
     "execution_count": 23,
     "metadata": {},
     "output_type": "execute_result"
    },
    {
     "data": {
      "image/png": "[encoded data removed]",
      "text/plain": [
       "<Figure size 432x288 with 1 Axes>"
      ]
     },
     "metadata": {
      "needs_background": "light"
     },
     "output_type": "display_data"
    }
   ],
   "source": [
    "plt.imshow(location_filter(mask, 'right_front')[44])"
   ]
  },
  {
   "cell_type": "code",
   "execution_count": 62,
   "metadata": {},
   "outputs": [],
   "source": [
    "class TestMetDataSet(Dataset):\n",
    "    def __init__(self, df, number, size, location):\n",
    "\n",
    "        self.size = size\n",
    "        self.location = location\n",
    "        if number:\n",
    "            df = df[(df['met_num'] >= number[0]) & (df['met_num'] <= number[1])]\n",
    "            \n",
    "        self.img_files = list(df['img_files'])\n",
    "        self.mask_files = list(df['mask_files'])\n",
    "        self.img_names = ['_'.join(file.split('/')[-1].split('_')[0:2]) for file in self.img_files]\n",
    "        self.mask_names = ['_'.join(file.split('/')[-1].split('_')[0:2]) for file in self.mask_files]\n",
    "    def __len__(self):\n",
    "        return len(self.img_files)\n",
    "    def __getitem__(self, idx):\n",
    "        img = read_and_crop(self.img_files[idx],64,256,256).reshape(1,64,256,256)\n",
    "        mask = read_and_crop(self.mask_files[idx],64,256,256).reshape(1,64,256,256)\n",
    "        if self.size:\n",
    "            mask = size_filter(mask[0], self.size).reshape(1,64,256,256)\n",
    "        if self.location:\n",
    "            mask = location_filter(mask[0], self.location).reshape(1,64,256,256)\n",
    "        return img.copy(), mask.copy()\n",
    "    def get_name(self,idx):\n",
    "        img_name = self.img_names[idx]\n",
    "        mask_name = self.mask_names[idx]\n",
    "        return img_name,mask_name\n",
    "    def get_volumes(self, idx):\n",
    "        img = read_and_crop(self.img_files[idx],64,256,256).reshape(1,64,256,256)\n",
    "        mask = read_and_crop(self.mask_files[idx],64,256,256).reshape(1,64,256,256)\n",
    "        volumes = size_filter(mask[0], self.size, return_volumes=True)\n",
    "        return volumes\n",
    "    def get_locations(self, idx):\n",
    "        img = read_and_crop(self.img_files[idx],64,256,256).reshape(1,64,256,256)\n",
    "        mask = read_and_crop(self.mask_files[idx],64,256,256).reshape(1,64,256,256)\n",
    "        locations = location_filter(mask[0], self.location, return_locations=True)\n",
    "        return locations"
   ]
  },
  {
   "cell_type": "code",
   "execution_count": 76,
   "metadata": {},
   "outputs": [],
   "source": [
    "train_dataset = TestMetDataSet(train_df, None, [0,50000], None)\n",
    "valid_dataset = TestMetDataSet(valid_df, None, [0,50000], None)\n",
    "test_dataset = TestMetDataSet(test_df, None, [0,50000], None)"
   ]
  },
  {
   "cell_type": "markdown",
   "metadata": {},
   "source": [
    "### Volume"
   ]
  },
  {
   "cell_type": "code",
   "execution_count": 107,
   "metadata": {},
   "outputs": [],
   "source": [
    "volumes = []"
   ]
  },
  {
   "cell_type": "code",
   "execution_count": 103,
   "metadata": {},
   "outputs": [],
   "source": [
    "for i in range(len(valid_dataset)):\n",
    "    volumes.append(valid_dataset.get_volumes(i))"
   ]
  },
  {
   "cell_type": "code",
   "execution_count": 104,
   "metadata": {},
   "outputs": [],
   "source": [
    "volumes = np.concatenate(volumes)"
   ]
  },
  {
   "cell_type": "code",
   "execution_count": 105,
   "metadata": {},
   "outputs": [],
   "source": [
    "bins = [[0, 0.1], [0.1, 0.5], [0.5, 1], [1, 2], [2, 5], [5, np.inf]]"
   ]
  },
  {
   "cell_type": "code",
   "execution_count": 99,
   "metadata": {},
   "outputs": [
    {
     "name": "stdout",
     "output_type": "stream",
     "text": [
      "training dataset\n",
      "size between 0.00 and 0.10:  754\n",
      "size between 0.10 and 0.50:  620\n",
      "size between 0.50 and 1.00:  190\n",
      "size between 1.00 and 2.00:  160\n",
      "size between 2.00 and 5.00:  212\n",
      "size between 5.00 and inf:  200\n"
     ]
    }
   ],
   "source": [
    "print('training dataset')\n",
    "for size_bin in bins:\n",
    "    print('size between {:.2f} and {:.2f}: {:4d}'.format(size_bin[0], size_bin[1], len(volumes[np.logical_and(volumes>=size_bin[0], volumes<size_bin[1])])))"
   ]
  },
  {
   "cell_type": "code",
   "execution_count": 106,
   "metadata": {},
   "outputs": [
    {
     "name": "stdout",
     "output_type": "stream",
     "text": [
      "valid dataset\n",
      "size between 0.00 and 0.10:  160\n",
      "size between 0.10 and 0.50:  142\n",
      "size between 0.50 and 1.00:   35\n",
      "size between 1.00 and 2.00:   34\n",
      "size between 2.00 and 5.00:   45\n",
      "size between 5.00 and inf:   36\n"
     ]
    }
   ],
   "source": [
    "print('valid dataset')\n",
    "for size_bin in bins:\n",
    "    print('size between {:.2f} and {:.2f}: {:4d}'.format(size_bin[0], size_bin[1], len(volumes[np.logical_and(volumes>=size_bin[0], volumes<size_bin[1])])))"
   ]
  },
  {
   "cell_type": "code",
   "execution_count": 94,
   "metadata": {},
   "outputs": [
    {
     "name": "stdout",
     "output_type": "stream",
     "text": [
      "testing dataset\n",
      "size between 0.00 and 0.10:  160\n",
      "size between 0.10 and 0.50:  167\n",
      "size between 0.50 and 1.00:   37\n",
      "size between 1.00 and 2.00:   46\n",
      "size between 2.00 and 5.00:   49\n",
      "size between 5.00 and inf:   41\n"
     ]
    }
   ],
   "source": [
    "print('testing dataset')\n",
    "for size_bin in bins:\n",
    "    print('size between {:.2f} and {:.2f}: {:4d}'.format(size_bin[0], size_bin[1], len(volumes[np.logical_and(volumes>=size_bin[0], volumes<size_bin[1])])))"
   ]
  },
  {
   "cell_type": "markdown",
   "metadata": {},
   "source": [
    "### Location"
   ]
  },
  {
   "cell_type": "code",
   "execution_count": 82,
   "metadata": {},
   "outputs": [],
   "source": [
    "locations = []"
   ]
  },
  {
   "cell_type": "code",
   "execution_count": 83,
   "metadata": {},
   "outputs": [],
   "source": [
    "for i in range(len(test_dataset)):\n",
    "    locations.append(test_dataset.get_locations(i))"
   ]
  },
  {
   "cell_type": "code",
   "execution_count": 84,
   "metadata": {},
   "outputs": [],
   "source": [
    "locations = np.concatenate(locations)"
   ]
  },
  {
   "cell_type": "code",
   "execution_count": 75,
   "metadata": {},
   "outputs": [
    {
     "name": "stdout",
     "output_type": "stream",
     "text": [
      "training dataset\n",
      "left_cerebellum     : 290\n",
      "left_front          : 288\n",
      "left_pos            : 471\n",
      "right_cerebellum    : 267\n",
      "right_front         : 304\n",
      "right_pos           : 516\n"
     ]
    }
   ],
   "source": [
    "print('training dataset')\n",
    "for location, num in zip(np.unique(locations, return_counts=True)[0], np.unique(locations, return_counts=True)[1]):\n",
    "    print('{:20s}: {:3d}'.format(location, num))"
   ]
  },
  {
   "cell_type": "code",
   "execution_count": 81,
   "metadata": {},
   "outputs": [
    {
     "name": "stdout",
     "output_type": "stream",
     "text": [
      "valid dataset\n",
      "left_cerebellum     :  59\n",
      "left_front          :  62\n",
      "left_pos            : 103\n",
      "right_cerebellum    :  61\n",
      "right_front         :  61\n",
      "right_pos           : 106\n"
     ]
    }
   ],
   "source": [
    "print('valid dataset')\n",
    "for location, num in zip(np.unique(locations, return_counts=True)[0], np.unique(locations, return_counts=True)[1]):\n",
    "    print('{:20s}: {:3d}'.format(location, num))"
   ]
  },
  {
   "cell_type": "code",
   "execution_count": 85,
   "metadata": {},
   "outputs": [
    {
     "name": "stdout",
     "output_type": "stream",
     "text": [
      "testing dataset\n",
      "left_cerebellum     :  52\n",
      "left_front          :  56\n",
      "left_pos            : 128\n",
      "right_cerebellum    :  78\n",
      "right_front         :  68\n",
      "right_pos           : 118\n"
     ]
    }
   ],
   "source": [
    "print('testing dataset')\n",
    "for location, num in zip(np.unique(locations, return_counts=True)[0], np.unique(locations, return_counts=True)[1]):\n",
    "    print('{:20s}: {:3d}'.format(location, num))"
   ]
  },
  {
   "cell_type": "markdown",
   "metadata": {},
   "source": [
    "### Number"
   ]
  },
  {
   "cell_type": "code",
   "execution_count": 115,
   "metadata": {},
   "outputs": [],
   "source": [
    "bins = [[1, 1], [2, 2], [3, 5], [6, 10], [11, np.inf]]"
   ]
  },
  {
   "cell_type": "code",
   "execution_count": 119,
   "metadata": {},
   "outputs": [
    {
     "name": "stdout",
     "output_type": "stream",
     "text": [
      "all dataset\n",
      "size between 1.00 and 1.00:  178\n",
      "size between 2.00 and 2.00:  140\n",
      "size between 3.00 and 5.00:  183\n",
      "size between 6.00 and 10.00:  119\n",
      "size between 11.00 and inf:   66\n"
     ]
    }
   ],
   "source": [
    "print('all dataset')\n",
    "for size_bin in bins:\n",
    "    print('size between {:.2f} and {:.2f}: {:4d}'.format(size_bin[0], size_bin[1], len(df['met_num'].values[np.logical_and(df['met_num'].values>=size_bin[0], df['met_num'].values<=size_bin[1])])))\n",
    "        "
   ]
  },
  {
   "cell_type": "code",
   "execution_count": 116,
   "metadata": {},
   "outputs": [
    {
     "name": "stdout",
     "output_type": "stream",
     "text": [
      "training dataset\n",
      "size between 1.00 and 1.00:  124\n",
      "size between 2.00 and 2.00:   98\n",
      "size between 3.00 and 5.00:  127\n",
      "size between 6.00 and 10.00:   83\n",
      "size between 11.00 and inf:   45\n"
     ]
    }
   ],
   "source": [
    "print('training dataset')\n",
    "for size_bin in bins:\n",
    "    print('size between {:.2f} and {:.2f}: {:4d}'.format(size_bin[0], size_bin[1], len(train_df['met_num'].values[np.logical_and(train_df['met_num'].values>=size_bin[0], train_df['met_num'].values<=size_bin[1])])))"
   ]
  },
  {
   "cell_type": "code",
   "execution_count": 117,
   "metadata": {},
   "outputs": [
    {
     "name": "stdout",
     "output_type": "stream",
     "text": [
      "valid dataset\n",
      "size between 1.00 and 1.00:   26\n",
      "size between 2.00 and 2.00:   20\n",
      "size between 3.00 and 5.00:   26\n",
      "size between 6.00 and 10.00:   17\n",
      "size between 11.00 and inf:   10\n"
     ]
    }
   ],
   "source": [
    "print('valid dataset')\n",
    "for size_bin in bins:\n",
    "    print('size between {:.2f} and {:.2f}: {:4d}'.format(size_bin[0], size_bin[1], len(valid_df['met_num'].values[np.logical_and(valid_df['met_num'].values>=size_bin[0], valid_df['met_num'].values<=size_bin[1])])))\n",
    "    \n",
    "    "
   ]
  },
  {
   "cell_type": "code",
   "execution_count": 118,
   "metadata": {},
   "outputs": [
    {
     "name": "stdout",
     "output_type": "stream",
     "text": [
      "testing dataset\n",
      "size between 1.00 and 1.00:   28\n",
      "size between 2.00 and 2.00:   22\n",
      "size between 3.00 and 5.00:   30\n",
      "size between 6.00 and 10.00:   19\n",
      "size between 11.00 and inf:   11\n"
     ]
    }
   ],
   "source": [
    "print('testing dataset')\n",
    "for size_bin in bins:\n",
    "    print('size between {:.2f} and {:.2f}: {:4d}'.format(size_bin[0], size_bin[1], len(test_df['met_num'].values[np.logical_and(test_df['met_num'].values>=size_bin[0], test_df['met_num'].values<=size_bin[1])])))\n",
    "    "
   ]
  },
  {
   "cell_type": "code",
   "execution_count": null,
   "metadata": {},
   "outputs": [],
   "source": []
  }
 ],
 "metadata": {
  "kernelspec": {
   "display_name": "Python 3",
   "language": "python",
   "name": "python3"
  },
  "language_info": {
   "codemirror_mode": {
    "name": "ipython",
    "version": 3
   },
   "file_extension": ".py",
   "mimetype": "text/x-python",
   "name": "python",
   "nbconvert_exporter": "python",
   "pygments_lexer": "ipython3",
   "version": "3.7.3"
  }
 },
 "nbformat": 4,
 "nbformat_minor": 4
}
