{
 "cells": [
  {
   "cell_type": "code",
   "execution_count": 1,
   "metadata": {},
   "outputs": [
    {
     "name": "stderr",
     "output_type": "stream",
     "text": [
      "Using TensorFlow backend.\n"
     ]
    }
   ],
   "source": [
    "from Brainmets.utils import *\n",
    "from Brainmets.dataset import *\n",
    "from Brainmets.augmentations import Transformer\n",
    "from Brainmets.losses import *\n",
    "from Brainmets.trainer import *\n",
    "from Brainmets.evaluation import *"
   ]
  },
  {
   "cell_type": "code",
   "execution_count": 2,
   "metadata": {},
   "outputs": [
    {
     "name": "stdout",
     "output_type": "stream",
     "text": [
      "[16, 32, 64, 128, 256, 512]\n"
     ]
    }
   ],
   "source": [
    "device = torch.device('cuda: 2')\n",
    "model = ResidualUNet3D(1, 1, True).to(device)\n",
    "model_name = 'trained_models/nearest/Baseline-Diceloss-test_3-0.001/epoch_38_val_score=0.7961517106553521.pth'\n",
    "state_dict = torch.load(model_name)"
   ]
  },
  {
   "cell_type": "code",
   "execution_count": 27,
   "metadata": {},
   "outputs": [
    {
     "data": {
      "text/plain": [
       "<All keys matched successfully>"
      ]
     },
     "execution_count": 27,
     "metadata": {},
     "output_type": "execute_result"
    }
   ],
   "source": [
    "model.load_state_dict(state_dict)"
   ]
  },
  {
   "cell_type": "code",
   "execution_count": 28,
   "metadata": {},
   "outputs": [],
   "source": [
    "data_path = Path('/home/chens/practicum/MEDomicsLab-develop-brainmets/model_training/3_unet_3d_residual/data/')\n",
    "data = 'manuscript_1_datasets_first_tx_allmets'\n",
    "df = pd.read_csv(data_path/f'{data}.csv')"
   ]
  },
  {
   "cell_type": "code",
   "execution_count": 29,
   "metadata": {},
   "outputs": [],
   "source": [
    "train_df = df[df['split'] == 'train'].sample(frac=1)\n",
    "valid_df = df[df['split'] == 'valid'].sample(frac=1)\n",
    "test_df = df[df['split'] == 'test'].sample(frac=1)\n",
    "\n",
    "train_img_files = list(train_df['img_files'])\n",
    "train_mask_files = list(train_df['mask_files'])\n",
    "valid_img_files = list(valid_df['img_files'])\n",
    "valid_mask_files = list(valid_df['mask_files'])\n",
    "test_img_files = list(test_df['img_files'])\n",
    "test_mask_files = list(test_df['mask_files'])\n",
    "\n",
    "# train_dataset = MetDataSet(train_df)\n",
    "# valid_dataset = MetDataSet(valid_df)\n",
    "# test_dataset = MetDataSet(test_df)"
   ]
  },
  {
   "cell_type": "code",
   "execution_count": 30,
   "metadata": {},
   "outputs": [],
   "source": [
    "from scipy import ndimage"
   ]
  },
  {
   "cell_type": "code",
   "execution_count": 31,
   "metadata": {},
   "outputs": [],
   "source": [
    "structure_array = np.array([[[1,1,1],\n",
    " [1,1,1],\n",
    " [1,1,1]],\n",
    "[[1,1,1],\n",
    " [1,1,1],\n",
    " [1,1,1]],\n",
    "[[1,1,1],\n",
    " [1,1,1],\n",
    " [1,1,1]]])"
   ]
  },
  {
   "cell_type": "code",
   "execution_count": 32,
   "metadata": {},
   "outputs": [],
   "source": [
    "def cm_filter(target, pred):\n",
    "    new_pred = ndimage.label(pred, structure_array)[0]\n",
    "    labels = ndimage.label(pred, structure_array)[0]\n",
    "    index_to_keep = []\n",
    "    \n",
    "    for i in range(1, labels.max()+1):\n",
    "        cm_i = np.round(np.array(ndimage.measurements.center_of_mass(pred, labels, i))).astype(int)\n",
    "        if target[cm_i[0]][cm_i[1]][cm_i[2]]>0:\n",
    "            index_to_keep.append(i)\n",
    "    for index in np.arange(1, labels.max()+1):\n",
    "        if index not in index_to_keep:\n",
    "            new_pred[new_pred==index] = 0\n",
    "        else:\n",
    "            new_pred[new_pred==index] = 1\n",
    "    return new_pred"
   ]
  },
  {
   "cell_type": "code",
   "execution_count": 33,
   "metadata": {},
   "outputs": [],
   "source": [
    "def fp_filter(target, pred):\n",
    "    new_pred = ndimage.label(pred, structure_array)[0]\n",
    "    labels = ndimage.label(pred, structure_array)[0]\n",
    "    index_to_keep = []\n",
    "    \n",
    "    for i in range(1, labels.max()+1):\n",
    "        cm_i = np.round(np.array(ndimage.measurements.center_of_mass(pred, labels, i))).astype(int)\n",
    "        if target[cm_i[0]][cm_i[1]][cm_i[2]]>0:\n",
    "            index_to_keep.append(i)\n",
    "    fp = labels.max()-len(index_to_keep)\n",
    "    return fp"
   ]
  },
  {
   "cell_type": "code",
   "execution_count": 34,
   "metadata": {},
   "outputs": [],
   "source": [
    "def met_volume(image,res):\n",
    "    numMets = np.amax(image)# max number\n",
    "    metNum, counts = np.unique(image.flatten(), return_counts=True)\n",
    "    return np.asarray(counts[1:]*res)"
   ]
  },
  {
   "cell_type": "code",
   "execution_count": 35,
   "metadata": {},
   "outputs": [],
   "source": [
    "def size_filter(mask, size, return_volumes=False, return_labels=False):\n",
    "    new_mask = ndimage.label(mask, structure_array)[0]\n",
    "    volumes = met_volume(new_mask, 0.003)\n",
    "    if return_volumes:\n",
    "        return volumes\n",
    "    index_to_keep = np.arange(1, len(volumes)+1)[np.logical_and(volumes>=size[0], volumes<=size[1])]\n",
    "    for index in np.arange(1, len(volumes)+1):\n",
    "        if index not in index_to_keep:\n",
    "            new_mask[new_mask==index] = 0\n",
    "        elif return_labels:\n",
    "            pass\n",
    "        else:\n",
    "            new_mask[new_mask==index] = 1\n",
    "    return new_mask"
   ]
  },
  {
   "cell_type": "code",
   "execution_count": 36,
   "metadata": {},
   "outputs": [],
   "source": [
    "def location_filter(mask, location, return_locations=False, return_labels=False):\n",
    "    new_mask = ndimage.label(mask, structure_array)[0]\n",
    "    labels = ndimage.label(mask, structure_array)[0]\n",
    "    index_to_keep = []\n",
    "    if return_locations:\n",
    "        locations = []\n",
    "        for i in range(1, labels.max()+1):\n",
    "            cm_i = ndimage.measurements.center_of_mass(mask, labels, i)\n",
    "            if cm_i[0] >= 25 and cm_i[2] < 128 and cm_i[1] >= 150: # right front cortex\n",
    "                locations.append('right_front')\n",
    "            elif cm_i[0] >= 25 and cm_i[2] >= 128 and cm_i[1] >= 150: # left front cortex\n",
    "                locations.append('left_front')\n",
    "            elif cm_i[0] >= 25 and cm_i[2] < 128 and cm_i[1] < 150: # right pos cortex\n",
    "                locations.append('right_pos')\n",
    "            elif cm_i[0] >= 25 and cm_i[2] >= 128 and cm_i[1] < 150: # left pos cortex\n",
    "                locations.append('left_pos')\n",
    "            elif cm_i[0] < 25 and cm_i[2] < 128: # right cerebellum\n",
    "                locations.append('right_cerebellum')\n",
    "            elif cm_i[0] < 25 and cm_i[2] >= 128: # left cerebellum\n",
    "                locations.append('left_cerebellum')\n",
    "        return locations\n",
    "    for i in range(1, labels.max()+1):\n",
    "        cm_i = ndimage.measurements.center_of_mass(mask, labels, i)\n",
    "        if ((location == 'right_front') and (cm_i[0] >= 25 and cm_i[2] < 128 and cm_i[1] >= 150)) or \\\n",
    "           ((location == 'left_front') and (cm_i[0] >= 25 and cm_i[2] >= 128 and cm_i[1] >= 150)) or \\\n",
    "           ((location == 'right_pos') and (cm_i[0] >= 25 and cm_i[2] < 128 and cm_i[1] < 150)) or \\\n",
    "           ((location == 'left_pos') and (cm_i[0] >= 25 and cm_i[2] >= 128 and cm_i[1] < 150)) or \\\n",
    "           ((location == 'right_cerebellum') and (cm_i[0] < 25 and cm_i[2] < 128)) or \\\n",
    "           ((location == 'left_cerebellum') and (cm_i[0] < 25 and cm_i[2] >= 128)):\n",
    "            index_to_keep.append(i)\n",
    "    for index in np.arange(1, len(labels)+1):\n",
    "        if index not in index_to_keep:\n",
    "            new_mask[new_mask==index] = 0\n",
    "        elif return_labels:\n",
    "            pass\n",
    "        else:\n",
    "            new_mask[new_mask==index] = 1\n",
    "    return new_mask"
   ]
  },
  {
   "cell_type": "code",
   "execution_count": 37,
   "metadata": {},
   "outputs": [],
   "source": [
    "class TestMetDataSet(Dataset):\n",
    "    def __init__(self, df, number, size, location, return_labels=False):\n",
    "\n",
    "        self.return_labels = return_labels\n",
    "        self.size = size\n",
    "        self.location = location\n",
    "        if number:\n",
    "            df = df[(df['met_num'] >= number[0]) & (df['met_num'] <= number[1])]\n",
    "            \n",
    "        self.img_files = list(df['img_files'])\n",
    "        self.mask_files = list(df['mask_files'])\n",
    "        self.img_names = ['_'.join(file.split('/')[-1].split('_')[0:2]) for file in self.img_files]\n",
    "        self.mask_names = ['_'.join(file.split('/')[-1].split('_')[0:2]) for file in self.mask_files]\n",
    "    def __len__(self):\n",
    "        return len(self.img_files)\n",
    "    def __getitem__(self, idx):\n",
    "        img = read_and_crop(self.img_files[idx],64,256,256).reshape(1,64,256,256)\n",
    "        mask = read_and_crop(self.mask_files[idx],64,256,256).reshape(1,64,256,256)\n",
    "        if self.size:\n",
    "            mask = size_filter(mask[0], self.size).reshape(1,64,256,256)\n",
    "        if self.location:\n",
    "            mask = location_filter(mask[0], self.location).reshape(1,64,256,256)\n",
    "        if self.return_labels:\n",
    "            return img.copy(), ndimage.label(mask[0], structure_array)[0].reshape(1,64,256,256)\n",
    "        return img.copy(), mask.copy()\n",
    "    def get_name(self,idx):\n",
    "        img_name = self.img_names[idx]\n",
    "        mask_name = self.mask_names[idx]\n",
    "        return img_name,mask_name\n",
    "    def get_volumes(self, idx):\n",
    "        img = read_and_crop(self.img_files[idx],64,256,256).reshape(1,64,256,256)\n",
    "        mask = read_and_crop(self.mask_files[idx],64,256,256).reshape(1,64,256,256)\n",
    "        volumes = size_filter(mask[0], self.size, return_volumes=True)\n",
    "        return volumes\n",
    "    def get_locations(self, idx):\n",
    "        img = read_and_crop(self.img_files[idx],64,256,256).reshape(1,64,256,256)\n",
    "        mask = read_and_crop(self.mask_files[idx],64,256,256).reshape(1,64,256,256)\n",
    "        locations = location_filter(mask[0], self.location, return_locations=True)\n",
    "        return locations"
   ]
  },
  {
   "cell_type": "markdown",
   "metadata": {},
   "source": [
    "### Overall"
   ]
  },
  {
   "cell_type": "code",
   "execution_count": 38,
   "metadata": {},
   "outputs": [],
   "source": [
    "def overall_eval():\n",
    "    metrics = compute_per_channel_dice\n",
    "    model.eval()\n",
    "    total_test_loss = 0\n",
    "    total_test_score = 0\n",
    "    for index, test_batch in tqdm(\n",
    "        enumerate(\n",
    "            test_loader), total=len(\n",
    "            test_loader)):\n",
    "        test_sample_img, test_sample_mask = test_batch\n",
    "        test_sample_img = test_sample_img.to(device).float()\n",
    "        test_sample_mask = test_sample_mask.to(device).float()\n",
    "        del test_batch\n",
    "        gc.collect()\n",
    "        with torch.no_grad():\n",
    "            test_predicted_mask = model(test_sample_img)\n",
    "        test_score = metrics(test_predicted_mask, test_sample_mask)\n",
    "        total_test_score += test_score.item()\n",
    "        del test_sample_img, test_sample_mask, test_predicted_mask, test_score\n",
    "        gc.collect()\n",
    "    print('test_score: ' + str(total_test_score / len(test_dataset)))\n",
    "    torch.cuda.empty_cache()\n",
    "    test_score = total_test_score / len(test_dataset)\n"
   ]
  },
  {
   "cell_type": "code",
   "execution_count": 39,
   "metadata": {},
   "outputs": [],
   "source": [
    "def overall_met_eval():\n",
    "    metrics = compute_per_channel_dice\n",
    "    model.eval()\n",
    "    total_test_loss = 0\n",
    "    total = 0\n",
    "    total_test_score = []\n",
    "    for index, test_batch in tqdm(\n",
    "        enumerate(\n",
    "            test_loader), total=len(\n",
    "            test_loader)):\n",
    "        test_sample_img, test_sample_mask = test_batch\n",
    "        test_sample_img = test_sample_img.to(device).float()\n",
    "        test_sample_mask = test_sample_mask.to(device).float()\n",
    "        del test_batch\n",
    "        gc.collect()\n",
    "        with torch.no_grad():\n",
    "            test_predicted_mask = model(test_sample_img)\n",
    "        for label in range(1, int(test_sample_mask.max())+1):\n",
    "            test_sample_met_mask = test_sample_mask.cpu().numpy()\n",
    "            test_sample_met_mask[(test_sample_met_mask!=label)&(test_sample_met_mask!=0)] = 0\n",
    "            test_sample_met_mask[test_sample_met_mask==label] = 1\n",
    "            test_predicted_met_mask = torch.tensor(cm_filter(test_sample_met_mask[0][0], test_predicted_mask.round().detach().cpu().numpy()[0][0])).reshape(1,1,64,256,256).to(device)\n",
    "            test_sample_met_mask = torch.tensor(test_sample_met_mask).to(device)\n",
    "#             print(test_sample_met_mask.shape)\n",
    "#             print(test_predicted_met_mask.shape)\n",
    "            \n",
    "            test_score = metrics(test_predicted_met_mask, test_sample_met_mask)\n",
    "            total_test_score.append(test_score.item())\n",
    "#             print(test_score.item())\n",
    "            total += 1\n",
    "        del test_sample_img, test_sample_mask, test_predicted_mask, test_score\n",
    "        gc.collect()\n",
    "    print('test_score: ' + str(sum(total_test_score) / total))\n",
    "    print('test_std: ' + str(np.std(total_test_score)))\n",
    "    torch.cuda.empty_cache()"
   ]
  },
  {
   "cell_type": "code",
   "execution_count": 40,
   "metadata": {},
   "outputs": [],
   "source": [
    "def overall_met_fp():\n",
    "    metrics = compute_per_channel_dice\n",
    "    model.eval()\n",
    "    total_test_loss = 0\n",
    "    total_test_score = 0\n",
    "    total_fp = []\n",
    "    for index, test_batch in tqdm(\n",
    "        enumerate(\n",
    "            test_loader), total=len(\n",
    "            test_loader)):\n",
    "        test_sample_img, test_sample_mask = test_batch\n",
    "        test_sample_img = test_sample_img.to(device).float()\n",
    "        test_sample_mask = test_sample_mask.to(device).float()\n",
    "        del test_batch\n",
    "        gc.collect()\n",
    "        with torch.no_grad():\n",
    "            test_predicted_mask = model(test_sample_img)\n",
    "            \n",
    "        fp = fp_filter(test_sample_mask[0][0], test_predicted_mask.round().detach().cpu().numpy()[0][0])\n",
    "#         print(fp)\n",
    "        total_fp.append(fp)\n",
    "        \n",
    "        del test_sample_img, test_sample_mask, test_predicted_mask\n",
    "        gc.collect()\n",
    "    print('total FP: ' + str(sum(total_fp)))\n",
    "    torch.cuda.empty_cache()\n"
   ]
  },
  {
   "cell_type": "code",
   "execution_count": 17,
   "metadata": {},
   "outputs": [
    {
     "name": "stderr",
     "output_type": "stream",
     "text": [
      "100%|██████████| 110/110 [06:30<00:00,  3.55s/it]\n"
     ]
    },
    {
     "name": "stdout",
     "output_type": "stream",
     "text": [
      "test_score: 0.5391905515802553\n",
      "test_std: 0.38216266820268074\n"
     ]
    }
   ],
   "source": [
    "test_dataset = TestMetDataSet(test_df, None, None, None, True)\n",
    "test_loader = DataLoader(test_dataset, batch_size=1, shuffle=False, pin_memory=False, num_workers=4)\n",
    "overall_met_eval()"
   ]
  },
  {
   "cell_type": "code",
   "execution_count": 17,
   "metadata": {},
   "outputs": [
    {
     "name": "stderr",
     "output_type": "stream",
     "text": [
      "100%|██████████| 110/110 [01:50<00:00,  1.01s/it]"
     ]
    },
    {
     "name": "stdout",
     "output_type": "stream",
     "text": [
      "total FP: 94\n"
     ]
    },
    {
     "name": "stderr",
     "output_type": "stream",
     "text": [
      "\n"
     ]
    }
   ],
   "source": [
    "test_dataset = TestMetDataSet(test_df, None, None, None, False)\n",
    "test_loader = DataLoader(test_dataset, batch_size=1, shuffle=False, pin_memory=False, num_workers=4)\n",
    "overall_met_fp()"
   ]
  },
  {
   "cell_type": "markdown",
   "metadata": {},
   "source": [
    "### Volume"
   ]
  },
  {
   "cell_type": "code",
   "execution_count": 17,
   "metadata": {},
   "outputs": [],
   "source": [
    "test_dataset = TestMetDataSet(test_df, None, [2, 5], None, return_labels=True)\n",
    "test_loader = DataLoader(test_dataset, batch_size=1, shuffle=False, pin_memory=False, num_workers=4)"
   ]
  },
  {
   "cell_type": "code",
   "execution_count": 41,
   "metadata": {},
   "outputs": [],
   "source": [
    "def volume_eval():\n",
    "    metrics = compute_per_channel_dice\n",
    "    model.eval()\n",
    "    total_test_loss = 0\n",
    "    total = 0\n",
    "    total_test_score = []\n",
    "    for index, test_batch in tqdm(\n",
    "        enumerate(\n",
    "            test_loader), total=len(\n",
    "            test_loader)):\n",
    "        test_sample_img, test_sample_mask = test_batch\n",
    "        test_sample_img = test_sample_img.to(device).float()\n",
    "        test_sample_mask = test_sample_mask.to(device).float()\n",
    "        if test_sample_mask.max() == 1:\n",
    "            total += 1\n",
    "            del test_batch\n",
    "            gc.collect()\n",
    "            with torch.no_grad():\n",
    "                test_predicted_mask = model(test_sample_img)\n",
    "            test_predicted_mask = torch.tensor(cm_filter(test_sample_mask.cpu().numpy()[0][0], test_predicted_mask.round().detach().cpu().numpy()[0][0])).reshape(1,1,64,256,256).to(device)\n",
    "            test_score = metrics(test_predicted_mask, test_sample_mask)\n",
    "#             print(index,'  ', test_score)\n",
    "            total_test_score.append(test_score.item())\n",
    "        #     break\n",
    "            del test_sample_img, test_sample_mask, test_predicted_mask, test_score\n",
    "            gc.collect()\n",
    "    print('test_score: ' + str(sum(total_test_score) / total))\n",
    "    print('test_std: ' + str(np.std(total_test_score) / total))\n",
    "    torch.cuda.empty_cache()\n",
    "    test_score = sum(total_test_score) / total"
   ]
  },
  {
   "cell_type": "code",
   "execution_count": 42,
   "metadata": {},
   "outputs": [],
   "source": [
    "def volume_met_eval():\n",
    "    metrics = compute_per_channel_dice\n",
    "    model.eval()\n",
    "    total_test_loss = 0\n",
    "    total = 0\n",
    "    total_test_score = []\n",
    "    for index, test_batch in tqdm(\n",
    "        enumerate(\n",
    "            test_loader), total=len(\n",
    "            test_loader)):\n",
    "        test_sample_img, test_sample_mask = test_batch\n",
    "        test_sample_img = test_sample_img.to(device).float()\n",
    "        test_sample_mask = test_sample_mask.to(device).float()\n",
    "        if test_sample_mask.max() >= 1:\n",
    "            \n",
    "            del test_batch\n",
    "            gc.collect()\n",
    "            with torch.no_grad():\n",
    "                test_predicted_mask = model(test_sample_img)\n",
    "                \n",
    "#             print(test_sample_mask.max())\n",
    "            for label in range(1, int(test_sample_mask.max())+1):\n",
    "                test_sample_met_mask = test_sample_mask.cpu().numpy()\n",
    "                test_sample_met_mask[(test_sample_met_mask!=label)&(test_sample_met_mask!=0)] = 0\n",
    "                test_sample_met_mask[test_sample_met_mask==label] = 1\n",
    "                test_predicted_met_mask = torch.tensor(cm_filter(test_sample_met_mask[0][0], test_predicted_mask.round().detach().cpu().numpy()[0][0])).reshape(1,1,64,256,256).to(device)\n",
    "                test_sample_met_mask = torch.tensor(test_sample_met_mask).to(device)\n",
    "\n",
    "                test_score = metrics(test_predicted_met_mask, test_sample_met_mask)\n",
    "                total_test_score.append(test_score.item())\n",
    "#                 print(test_score.item())\n",
    "                total += 1\n",
    "                \n",
    "            del test_sample_img, test_sample_mask, test_predicted_mask, test_score\n",
    "            gc.collect()\n",
    "    print('test_score: ' + str(sum(total_test_score) / total))\n",
    "    print('test_std: ' + str(np.std(total_test_score)))\n",
    "    print('total_met: ' + str(total))\n",
    "    torch.cuda.empty_cache()"
   ]
  },
  {
   "cell_type": "code",
   "execution_count": 43,
   "metadata": {},
   "outputs": [
    {
     "name": "stderr",
     "output_type": "stream",
     "text": [
      "100%|██████████| 110/110 [02:48<00:00,  1.53s/it]"
     ]
    },
    {
     "name": "stdout",
     "output_type": "stream",
     "text": [
      "test_score: 0.19186668885470945\n",
      "test_std: 0.29412741948473975\n",
      "total_met: 158\n"
     ]
    },
    {
     "name": "stderr",
     "output_type": "stream",
     "text": [
      "\n"
     ]
    }
   ],
   "source": [
    "test_dataset = TestMetDataSet(test_df, None, [0, 0.1], None, True)\n",
    "test_loader = DataLoader(test_dataset, batch_size=1, shuffle=False, pin_memory=False, num_workers=4)\n",
    "volume_met_eval()"
   ]
  },
  {
   "cell_type": "code",
   "execution_count": 44,
   "metadata": {},
   "outputs": [
    {
     "name": "stderr",
     "output_type": "stream",
     "text": [
      "100%|██████████| 110/110 [03:22<00:00,  1.84s/it]"
     ]
    },
    {
     "name": "stdout",
     "output_type": "stream",
     "text": [
      "test_score: 0.5870767745027642\n",
      "test_std: 0.3299868698957488\n",
      "total_met: 167\n"
     ]
    },
    {
     "name": "stderr",
     "output_type": "stream",
     "text": [
      "\n"
     ]
    }
   ],
   "source": [
    "test_dataset = TestMetDataSet(test_df, None, [0.1, 0.5], None, True)\n",
    "test_loader = DataLoader(test_dataset, batch_size=1, shuffle=False, pin_memory=False, num_workers=4)\n",
    "volume_met_eval()"
   ]
  },
  {
   "cell_type": "code",
   "execution_count": 45,
   "metadata": {},
   "outputs": [
    {
     "name": "stderr",
     "output_type": "stream",
     "text": [
      "100%|██████████| 110/110 [01:58<00:00,  1.08s/it]"
     ]
    },
    {
     "name": "stdout",
     "output_type": "stream",
     "text": [
      "test_score: 0.7909507984856525\n",
      "test_std: 0.25302124499925777\n",
      "total_met: 83\n"
     ]
    },
    {
     "name": "stderr",
     "output_type": "stream",
     "text": [
      "\n"
     ]
    }
   ],
   "source": [
    "test_dataset = TestMetDataSet(test_df, None, [0.5, 2], None, True)\n",
    "test_loader = DataLoader(test_dataset, batch_size=1, shuffle=False, pin_memory=False, num_workers=4)\n",
    "volume_met_eval()"
   ]
  },
  {
   "cell_type": "code",
   "execution_count": 46,
   "metadata": {},
   "outputs": [
    {
     "name": "stderr",
     "output_type": "stream",
     "text": [
      "100%|██████████| 110/110 [01:13<00:00,  1.50it/s]"
     ]
    },
    {
     "name": "stdout",
     "output_type": "stream",
     "text": [
      "test_score: 0.8156061710751786\n",
      "test_std: 0.20873132454929558\n",
      "total_met: 49\n"
     ]
    },
    {
     "name": "stderr",
     "output_type": "stream",
     "text": [
      "\n"
     ]
    }
   ],
   "source": [
    "test_dataset = TestMetDataSet(test_df, None, [2, 5], None, True)\n",
    "test_loader = DataLoader(test_dataset, batch_size=1, shuffle=False, pin_memory=False, num_workers=4)\n",
    "volume_met_eval()"
   ]
  },
  {
   "cell_type": "code",
   "execution_count": 47,
   "metadata": {},
   "outputs": [
    {
     "name": "stderr",
     "output_type": "stream",
     "text": [
      "100%|██████████| 110/110 [00:53<00:00,  2.05it/s]"
     ]
    },
    {
     "name": "stdout",
     "output_type": "stream",
     "text": [
      "test_score: 0.842597996316305\n",
      "test_std: 0.1716411667460613\n",
      "total_met: 41\n"
     ]
    },
    {
     "name": "stderr",
     "output_type": "stream",
     "text": [
      "\n"
     ]
    }
   ],
   "source": [
    "test_dataset = TestMetDataSet(test_df, None, [5, np.inf], None, True)\n",
    "test_loader = DataLoader(test_dataset, batch_size=1, shuffle=False, pin_memory=False, num_workers=4)\n",
    "volume_met_eval()"
   ]
  },
  {
   "cell_type": "code",
   "execution_count": 25,
   "metadata": {},
   "outputs": [],
   "source": [
    "x = ['0-0.1', '0.1-0.5', '0.5-2', '2-5','5-inf']\n",
    "y = [0.3, 0.64, 0.822, 0.822, 0.848]\n",
    "y_err = [0.0054, 0.0045, 0.0032, 0.0045, 0.0038]\n",
    "overall = 0.791"
   ]
  },
  {
   "cell_type": "code",
   "execution_count": 26,
   "metadata": {},
   "outputs": [
    {
     "data": {
      "image/png": "[encoded data removed]",
      "text/plain": [
       "<Figure size 432x288 with 1 Axes>"
      ]
     },
     "metadata": {
      "needs_background": "light"
     },
     "output_type": "display_data"
    }
   ],
   "source": [
    "plt.bar(x,y,width=0.4, yerr=y_err, align='center', alpha=0.5, ecolor='black', capsize=10)\n",
    "plt.hlines(overall, -0.5,4.5, linestyles='dashed')\n",
    "plt.xlabel('met volume')\n",
    "plt.ylabel('dice score')\n",
    "plt.title('met volume')\n",
    "plt.savefig('met volume.png')"
   ]
  },
  {
   "cell_type": "code",
   "execution_count": 48,
   "metadata": {},
   "outputs": [],
   "source": [
    "x = ['0-0.1', '0.1-0.5', '0.5-2', '2-5','5-inf']\n",
    "y = [0.192, 0.587, 0.791, 0.816, 0.843]\n",
    "y_err = [0.294, 0.33, 0.253, 0.209, 0.172]\n",
    "overall = 0.539"
   ]
  },
  {
   "cell_type": "code",
   "execution_count": 49,
   "metadata": {},
   "outputs": [
    {
     "data": {
      "image/png": "[encoded data removed]",
      "text/plain": [
       "<Figure size 432x288 with 1 Axes>"
      ]
     },
     "metadata": {
      "needs_background": "light"
     },
     "output_type": "display_data"
    }
   ],
   "source": [
    "plt.bar(x,y,width=0.4, yerr=y_err, align='center', alpha=0.5, ecolor='black', capsize=10)\n",
    "plt.hlines(overall, -0.5,4.5, linestyles='dashed')\n",
    "plt.xlabel('met volume')\n",
    "plt.ylabel('dice score')\n",
    "plt.title('met volume')\n",
    "plt.savefig('met volume.png')"
   ]
  },
  {
   "cell_type": "code",
   "execution_count": null,
   "metadata": {},
   "outputs": [],
   "source": [
    "for i in range(len(test_sample_mask[0][0])):\n",
    "    plt.imshow(test_sample_mask[0][0][i].cpu())\n",
    "    plt.show()"
   ]
  },
  {
   "cell_type": "code",
   "execution_count": null,
   "metadata": {},
   "outputs": [],
   "source": [
    "for i in range(len(test_predicted_mask[0][0])):\n",
    "    plt.imshow(test_predicted_mask[0][0][i].cpu())\n",
    "    plt.show()"
   ]
  },
  {
   "cell_type": "markdown",
   "metadata": {},
   "source": [
    "### Location"
   ]
  },
  {
   "cell_type": "code",
   "execution_count": 28,
   "metadata": {},
   "outputs": [],
   "source": [
    "test_dataset = TestMetDataSet(test_df, None, None, 'right_front')\n",
    "test_loader = DataLoader(test_dataset, batch_size=1, shuffle=False, pin_memory=False, num_workers=4)"
   ]
  },
  {
   "cell_type": "code",
   "execution_count": 29,
   "metadata": {},
   "outputs": [],
   "source": [
    "def location_eval(location):\n",
    "    metrics = compute_per_channel_dice\n",
    "    model.eval()\n",
    "    total_test_loss = 0\n",
    "    total_test_score = []\n",
    "    total = 0\n",
    "    for index, test_batch in tqdm(\n",
    "        enumerate(\n",
    "            test_loader), total=len(\n",
    "            test_loader)):\n",
    "        test_sample_img, test_sample_mask = test_batch\n",
    "        test_sample_img = test_sample_img.to(device).float()\n",
    "        test_sample_mask = test_sample_mask.to(device).float()\n",
    "        if test_sample_mask.max() == 1:\n",
    "            total += 1\n",
    "            del test_batch\n",
    "            gc.collect()\n",
    "            with torch.no_grad():\n",
    "                test_predicted_mask = model(test_sample_img)\n",
    "    #         if index==4:\n",
    "    #                 break\n",
    "            test_predicted_mask = torch.tensor(location_filter(test_predicted_mask.round().detach().cpu().numpy()[0][0], location)).reshape(1,1,64,256,256).to(device)\n",
    "            test_score = metrics(test_predicted_mask, test_sample_mask)\n",
    "#             print(index,'  ', test_score)\n",
    "            total_test_score.append(test_score.item())\n",
    "        #     break\n",
    "            del test_sample_img, test_sample_mask, test_predicted_mask, test_score\n",
    "            gc.collect()\n",
    "    print('test_score: ' + str(sum(total_test_score) / total))\n",
    "    print('test_std: ' + str(np.std(total_test_score) / total))\n",
    "    torch.cuda.empty_cache()\n",
    "    test_score = sum(total_test_score) / total"
   ]
  },
  {
   "cell_type": "code",
   "execution_count": 30,
   "metadata": {},
   "outputs": [],
   "source": [
    "def location_met_eval(location):\n",
    "    metrics = compute_per_channel_dice\n",
    "    model.eval()\n",
    "    total_test_loss = 0\n",
    "    total_test_score = []\n",
    "    total = 0\n",
    "    for index, test_batch in tqdm(\n",
    "        enumerate(\n",
    "            test_loader), total=len(\n",
    "            test_loader)):\n",
    "        test_sample_img, test_sample_mask = test_batch\n",
    "        test_sample_img = test_sample_img.to(device).float()\n",
    "        test_sample_mask = test_sample_mask.to(device).float()\n",
    "        if test_sample_mask.max() >= 1:\n",
    "            del test_batch\n",
    "            gc.collect()\n",
    "            with torch.no_grad():\n",
    "                test_predicted_mask = model(test_sample_img)\n",
    "            for label in range(1, int(test_sample_mask.max())+1):\n",
    "                test_sample_met_mask = test_sample_mask.cpu().numpy()\n",
    "                test_sample_met_mask[(test_sample_met_mask!=label)&(test_sample_met_mask!=0)] = 0\n",
    "                test_sample_met_mask[test_sample_met_mask==label] = 1\n",
    "                test_predicted_met_mask = torch.tensor(cm_filter(test_sample_met_mask[0][0], test_predicted_mask.round().detach().cpu().numpy()[0][0])).reshape(1,1,64,256,256).to(device)\n",
    "                test_sample_met_mask = torch.tensor(test_sample_met_mask).to(device)\n",
    "\n",
    "                test_score = metrics(test_predicted_met_mask, test_sample_met_mask)\n",
    "                total_test_score.append(test_score.item())\n",
    "#                 print(test_score.item())\n",
    "                total += 1\n",
    "            del test_sample_img, test_sample_mask, test_predicted_mask, test_score\n",
    "            gc.collect()\n",
    "    print('test_score: ' + str(sum(total_test_score) / total))\n",
    "    print('test_std: ' + str(np.std(total_test_score)))\n",
    "    print('total_met: ' + str(total))\n",
    "    torch.cuda.empty_cache()"
   ]
  },
  {
   "cell_type": "code",
   "execution_count": 31,
   "metadata": {},
   "outputs": [
    {
     "name": "stderr",
     "output_type": "stream",
     "text": [
      "100%|██████████| 110/110 [01:05<00:00,  1.67it/s]"
     ]
    },
    {
     "name": "stdout",
     "output_type": "stream",
     "text": [
      "test_score: 0.559847819071044\n",
      "test_std: 0.36961603794632225\n",
      "total_met: 68\n"
     ]
    },
    {
     "name": "stderr",
     "output_type": "stream",
     "text": [
      "\n"
     ]
    }
   ],
   "source": [
    "test_dataset = TestMetDataSet(test_df, None, None, 'right_front', True)\n",
    "test_loader = DataLoader(test_dataset, batch_size=1, shuffle=False, pin_memory=False, num_workers=4)\n",
    "location_met_eval('right_front')"
   ]
  },
  {
   "cell_type": "code",
   "execution_count": 32,
   "metadata": {},
   "outputs": [
    {
     "name": "stderr",
     "output_type": "stream",
     "text": [
      "100%|██████████| 110/110 [00:54<00:00,  2.00it/s]"
     ]
    },
    {
     "name": "stdout",
     "output_type": "stream",
     "text": [
      "test_score: 0.6429077639643636\n",
      "test_std: 0.356231949835771\n",
      "total_met: 56\n"
     ]
    },
    {
     "name": "stderr",
     "output_type": "stream",
     "text": [
      "\n"
     ]
    }
   ],
   "source": [
    "test_dataset = TestMetDataSet(test_df, None, None, 'left_front', True)\n",
    "test_loader = DataLoader(test_dataset, batch_size=1, shuffle=False, pin_memory=False, num_workers=4)\n",
    "location_met_eval('left_front')"
   ]
  },
  {
   "cell_type": "code",
   "execution_count": 33,
   "metadata": {},
   "outputs": [
    {
     "name": "stderr",
     "output_type": "stream",
     "text": [
      "100%|██████████| 110/110 [01:34<00:00,  1.17it/s]"
     ]
    },
    {
     "name": "stdout",
     "output_type": "stream",
     "text": [
      "test_score: 0.571034246834658\n",
      "test_std: 0.37304121424272785\n",
      "total_met: 118\n"
     ]
    },
    {
     "name": "stderr",
     "output_type": "stream",
     "text": [
      "\n"
     ]
    }
   ],
   "source": [
    "test_dataset = TestMetDataSet(test_df, None, None, 'right_pos', True)\n",
    "test_loader = DataLoader(test_dataset, batch_size=1, shuffle=False, pin_memory=False, num_workers=4)\n",
    "location_met_eval('right_pos')"
   ]
  },
  {
   "cell_type": "code",
   "execution_count": 34,
   "metadata": {},
   "outputs": [
    {
     "name": "stderr",
     "output_type": "stream",
     "text": [
      "100%|██████████| 110/110 [01:36<00:00,  1.14it/s]"
     ]
    },
    {
     "name": "stdout",
     "output_type": "stream",
     "text": [
      "test_score: 0.5336915577451388\n",
      "test_std: 0.3779362236847736\n",
      "total_met: 126\n"
     ]
    },
    {
     "name": "stderr",
     "output_type": "stream",
     "text": [
      "\n"
     ]
    }
   ],
   "source": [
    "test_dataset = TestMetDataSet(test_df, None, None, 'left_pos', True)\n",
    "test_loader = DataLoader(test_dataset, batch_size=1, shuffle=False, pin_memory=False, num_workers=4)\n",
    "location_met_eval('left_pos')"
   ]
  },
  {
   "cell_type": "code",
   "execution_count": 35,
   "metadata": {},
   "outputs": [
    {
     "name": "stderr",
     "output_type": "stream",
     "text": [
      "100%|██████████| 110/110 [01:07<00:00,  1.64it/s]\n"
     ]
    },
    {
     "name": "stdout",
     "output_type": "stream",
     "text": [
      "test_score: 0.4678087754127307\n",
      "test_std: 0.39677124336806746\n",
      "total_met: 78\n"
     ]
    }
   ],
   "source": [
    "test_dataset = TestMetDataSet(test_df, None, None, 'right_cerebellum', True)\n",
    "test_loader = DataLoader(test_dataset, batch_size=1, shuffle=False, pin_memory=False, num_workers=4)\n",
    "location_met_eval('right_cerebellum')"
   ]
  },
  {
   "cell_type": "code",
   "execution_count": 36,
   "metadata": {},
   "outputs": [
    {
     "name": "stderr",
     "output_type": "stream",
     "text": [
      "100%|██████████| 110/110 [00:49<00:00,  2.23it/s]\n"
     ]
    },
    {
     "name": "stdout",
     "output_type": "stream",
     "text": [
      "test_score: 0.4486181985300321\n",
      "test_std: 0.3936833134190744\n",
      "total_met: 52\n"
     ]
    }
   ],
   "source": [
    "test_dataset = TestMetDataSet(test_df, None, None, 'left_cerebellum', True)\n",
    "test_loader = DataLoader(test_dataset, batch_size=1, shuffle=False, pin_memory=False, num_workers=4)\n",
    "location_met_eval('left_cerebellum')"
   ]
  },
  {
   "cell_type": "code",
   "execution_count": null,
   "metadata": {},
   "outputs": [],
   "source": []
  },
  {
   "cell_type": "code",
   "execution_count": 33,
   "metadata": {},
   "outputs": [],
   "source": [
    "x = ['right_front', 'left_front', 'right_pos', 'left_pos', 'right_cere', 'left_cere']\n",
    "y = [0.619, 0.681, 0.727, 0.600, 0.601, 0.504]\n",
    "y_err = [0.0078, 0.0088, 0.004, 0.0059, 0.0085, 0.01]\n",
    "overall = 0.791"
   ]
  },
  {
   "cell_type": "code",
   "execution_count": 34,
   "metadata": {},
   "outputs": [
    {
     "data": {
      "image/png": "[encoded data removed]",
      "text/plain": [
       "<Figure size 432x288 with 1 Axes>"
      ]
     },
     "metadata": {
      "needs_background": "light"
     },
     "output_type": "display_data"
    }
   ],
   "source": [
    "plt.bar(x,y,width=0.4, yerr=y_err, align='center', alpha=0.5, ecolor='black', capsize=10)\n",
    "plt.hlines(overall, -0.5,5.5, linestyles='dashed')\n",
    "plt.xlabel('location')\n",
    "plt.ylabel('dice score')\n",
    "plt.title('location')\n",
    "plt.savefig('location.png')"
   ]
  },
  {
   "cell_type": "code",
   "execution_count": 50,
   "metadata": {},
   "outputs": [],
   "source": [
    "x = ['right_front', 'left_front', 'right_pos', 'left_pos', 'right_cere', 'left_cere']\n",
    "y = [0.56, 0.643, 0.571, 0.534, 0.468, 0.449]\n",
    "y_err = [0.370, 0.356, 0.373, 0.378, 0.397, 0.394]\n",
    "overall = 0.539"
   ]
  },
  {
   "cell_type": "code",
   "execution_count": 51,
   "metadata": {},
   "outputs": [
    {
     "data": {
      "image/png": "[encoded data removed]",
      "text/plain": [
       "<Figure size 432x288 with 1 Axes>"
      ]
     },
     "metadata": {
      "needs_background": "light"
     },
     "output_type": "display_data"
    }
   ],
   "source": [
    "plt.bar(x,y,width=0.4, yerr=y_err, align='center', alpha=0.5, ecolor='black', capsize=10)\n",
    "plt.hlines(overall, -0.5,5.5, linestyles='dashed')\n",
    "plt.xlabel('location')\n",
    "plt.ylabel('dice score')\n",
    "plt.title('location')\n",
    "plt.savefig('location.png')"
   ]
  },
  {
   "cell_type": "code",
   "execution_count": null,
   "metadata": {},
   "outputs": [],
   "source": [
    "for i in range(len(test_sample_mask[0][0])):\n",
    "    plt.imshow(test_sample_mask[0][0][i].cpu())\n",
    "    plt.show()"
   ]
  },
  {
   "cell_type": "code",
   "execution_count": null,
   "metadata": {},
   "outputs": [],
   "source": [
    "for i in range(len(test_predicted_mask[0][0])):\n",
    "    plt.imshow(test_predicted_mask[0][0][i].round().cpu())\n",
    "    plt.show()"
   ]
  },
  {
   "cell_type": "code",
   "execution_count": 21,
   "metadata": {},
   "outputs": [],
   "source": [
    "aha = torch.tensor(location_filter(test_predicted_mask.round().detach().cpu().numpy()[0][0], 'right_front')).reshape(1,1,64,256,256).to(device)"
   ]
  },
  {
   "cell_type": "code",
   "execution_count": null,
   "metadata": {},
   "outputs": [],
   "source": [
    "for i in range(len(test_predicted_mask[0][0])):\n",
    "    plt.imshow(aha[0][0][i].cpu())\n",
    "    plt.show()"
   ]
  },
  {
   "cell_type": "markdown",
   "metadata": {},
   "source": [
    "### Number"
   ]
  },
  {
   "cell_type": "code",
   "execution_count": 27,
   "metadata": {},
   "outputs": [
    {
     "name": "stderr",
     "output_type": "stream",
     "text": [
      "100%|██████████| 28/28 [00:16<00:00,  1.69it/s]\n"
     ]
    },
    {
     "name": "stdout",
     "output_type": "stream",
     "text": [
      "bin:  [1, 1]\n",
      "test_score: 0.8486780588115964\n",
      "test_score_std: 0.10934769985854076\n"
     ]
    },
    {
     "name": "stderr",
     "output_type": "stream",
     "text": [
      "100%|██████████| 22/22 [00:14<00:00,  1.56it/s]"
     ]
    },
    {
     "name": "stdout",
     "output_type": "stream",
     "text": [
      "bin:  [2, 2]\n",
      "test_score: 0.8006205382672223\n",
      "test_score_std: 0.14288574717485764\n"
     ]
    },
    {
     "name": "stderr",
     "output_type": "stream",
     "text": [
      "\n",
      "100%|██████████| 30/30 [00:20<00:00,  1.46it/s]"
     ]
    },
    {
     "name": "stdout",
     "output_type": "stream",
     "text": [
      "bin:  [3, 5]\n",
      "test_score: 0.8077509413162868\n",
      "test_score_std: 0.11573413981427069\n"
     ]
    },
    {
     "name": "stderr",
     "output_type": "stream",
     "text": [
      "\n",
      "100%|██████████| 19/19 [00:12<00:00,  1.55it/s]"
     ]
    },
    {
     "name": "stdout",
     "output_type": "stream",
     "text": [
      "bin:  [6, 10]\n",
      "test_score: 0.7419194955574838\n",
      "test_score_std: 0.14052537715176489\n"
     ]
    },
    {
     "name": "stderr",
     "output_type": "stream",
     "text": [
      "\n",
      "100%|██████████| 11/11 [00:07<00:00,  1.46it/s]"
     ]
    },
    {
     "name": "stdout",
     "output_type": "stream",
     "text": [
      "bin:  [11, inf]\n",
      "test_score: 0.6676035171205347\n",
      "test_score_std: 0.18135745190539335\n"
     ]
    },
    {
     "name": "stderr",
     "output_type": "stream",
     "text": [
      "\n"
     ]
    }
   ],
   "source": [
    "def num_eval()\n",
    "    for num_bin in [[1,1],[2,2],[3,5],[6,10],[11,np.inf]]:\n",
    "        test_dataset = TestMetDataSet(test_df, num_bin, None, None)\n",
    "        test_loader = DataLoader(test_dataset, batch_size=1, shuffle=False, pin_memory=False, num_workers=4)\n",
    "\n",
    "        metrics = compute_per_channel_dice\n",
    "        model.eval()\n",
    "        total_test_loss = 0\n",
    "        total_test_score = []\n",
    "        for index, test_batch in tqdm(\n",
    "            enumerate(\n",
    "                test_loader), total=len(\n",
    "                test_loader)):\n",
    "            test_sample_img, test_sample_mask = test_batch\n",
    "            test_sample_img = test_sample_img.to(device).float()\n",
    "            test_sample_mask = test_sample_mask.to(device).float()\n",
    "            if test_sample_mask.max() == 1:\n",
    "                del test_batch\n",
    "                gc.collect()\n",
    "                with torch.no_grad():\n",
    "                    test_predicted_mask = model(test_sample_img)\n",
    "                test_score = metrics(test_predicted_mask, test_sample_mask)\n",
    "                total_test_score.append(test_score.item())\n",
    "            #     break\n",
    "                del test_sample_img, test_sample_mask, test_predicted_mask, test_score\n",
    "                gc.collect()\n",
    "        print('bin: ', num_bin)\n",
    "        print('test_score: ' + str(sum(total_test_score) / len(test_dataset)))\n",
    "        print('test_score_std: ' + str(np.std(total_test_score)))\n",
    "        torch.cuda.empty_cache()"
   ]
  },
  {
   "cell_type": "code",
   "execution_count": 26,
   "metadata": {},
   "outputs": [],
   "source": [
    "def num_fp():\n",
    "    for num_bin in [[1,1],[2,2],[3,5],[6,10],[11,np.inf]]:\n",
    "        test_dataset = TestMetDataSet(test_df, num_bin, None, None, False)\n",
    "        test_loader = DataLoader(test_dataset, batch_size=1, shuffle=False, pin_memory=False, num_workers=4)\n",
    "\n",
    "        metrics = compute_per_channel_dice\n",
    "        model.eval()\n",
    "        total_test_loss = 0\n",
    "        total_fp = []\n",
    "        total_num_pred = []\n",
    "        total_num_target = []\n",
    "        for index, test_batch in tqdm(\n",
    "            enumerate(\n",
    "                test_loader), total=len(\n",
    "                test_loader)):\n",
    "            test_sample_img, test_sample_mask = test_batch\n",
    "            test_sample_img = test_sample_img.to(device).float()\n",
    "            test_sample_mask = test_sample_mask.to(device).float()\n",
    "\n",
    "            del test_batch\n",
    "            gc.collect()\n",
    "            with torch.no_grad():\n",
    "                test_predicted_mask = model(test_sample_img)\n",
    "            total_num_target.append(ndimage.label(test_sample_mask.cpu().numpy()[0][0],structure_array)[0].max())\n",
    "            total_num_pred.append(ndimage.label(test_predicted_mask.cpu().numpy()[0][0].round(),structure_array)[0].max())\n",
    "#             return ndimage.label(test_sample_mask.cpu().numpy()[0][0])[0], ndimage.label(test_predicted_mask.cpu().numpy()[0][0].round())[0]\n",
    "#             print(ndimage.label(test_predicted_mask.cpu().numpy()[0][0].round())[0].max())\n",
    "            fp = fp_filter(test_sample_mask[0][0], test_predicted_mask.round().detach().cpu().numpy()[0][0])\n",
    "            total_fp.append(fp)\n",
    "            del test_sample_img, test_sample_mask, test_predicted_mask\n",
    "            gc.collect()\n",
    "        print('bin: ', num_bin)\n",
    "        print('total FP: ' + str(sum(total_fp)))\n",
    "        print('total num predicted: ' + str(sum(total_num_pred)))\n",
    "        print('total num target: ' + str(sum(total_num_target)))\n",
    "    #         print('FP rate: ' + str(sum(total_fp)/len(test_loader)))\n",
    "        torch.cuda.empty_cache()"
   ]
  },
  {
   "cell_type": "code",
   "execution_count": 27,
   "metadata": {},
   "outputs": [
    {
     "name": "stderr",
     "output_type": "stream",
     "text": [
      "100%|██████████| 28/28 [00:25<00:00,  1.10it/s]\n"
     ]
    },
    {
     "name": "stdout",
     "output_type": "stream",
     "text": [
      "bin:  [1, 1]\n",
      "total FP: 11\n",
      "total num predicted: 39\n",
      "total num target: 28\n"
     ]
    },
    {
     "name": "stderr",
     "output_type": "stream",
     "text": [
      "100%|██████████| 22/22 [00:23<00:00,  1.05s/it]\n"
     ]
    },
    {
     "name": "stdout",
     "output_type": "stream",
     "text": [
      "bin:  [2, 2]\n",
      "total FP: 11\n",
      "total num predicted: 48\n",
      "total num target: 44\n"
     ]
    },
    {
     "name": "stderr",
     "output_type": "stream",
     "text": [
      "100%|██████████| 30/30 [00:35<00:00,  1.18s/it]\n"
     ]
    },
    {
     "name": "stdout",
     "output_type": "stream",
     "text": [
      "bin:  [3, 5]\n",
      "total FP: 27\n",
      "total num predicted: 117\n",
      "total num target: 111\n"
     ]
    },
    {
     "name": "stderr",
     "output_type": "stream",
     "text": [
      "100%|██████████| 19/19 [00:26<00:00,  1.38s/it]\n"
     ]
    },
    {
     "name": "stdout",
     "output_type": "stream",
     "text": [
      "bin:  [6, 10]\n",
      "total FP: 22\n",
      "total num predicted: 109\n",
      "total num target: 140\n"
     ]
    },
    {
     "name": "stderr",
     "output_type": "stream",
     "text": [
      "100%|██████████| 11/11 [00:18<00:00,  1.72s/it]\n"
     ]
    },
    {
     "name": "stdout",
     "output_type": "stream",
     "text": [
      "bin:  [11, inf]\n",
      "total FP: 23\n",
      "total num predicted: 135\n",
      "total num target: 175\n"
     ]
    }
   ],
   "source": [
    "num_fp()"
   ]
  },
  {
   "cell_type": "code",
   "execution_count": null,
   "metadata": {},
   "outputs": [],
   "source": []
  },
  {
   "cell_type": "code",
   "execution_count": null,
   "metadata": {},
   "outputs": [],
   "source": []
  },
  {
   "cell_type": "code",
   "execution_count": 52,
   "metadata": {},
   "outputs": [],
   "source": [
    "x = ['1', '2', '3-5', '6-10','11+']\n",
    "y = [0.849, 0.801, 0.808, 0.742, 0.668]\n",
    "y_err = [0.11, 0.14, 0.12, 0.14, 0.18]\n",
    "overall = 0.791"
   ]
  },
  {
   "cell_type": "code",
   "execution_count": 53,
   "metadata": {},
   "outputs": [
    {
     "data": {
      "image/png": "[encoded data removed]",
      "text/plain": [
       "<Figure size 432x288 with 1 Axes>"
      ]
     },
     "metadata": {
      "needs_background": "light"
     },
     "output_type": "display_data"
    }
   ],
   "source": [
    "plt.bar(x,y,width=0.4,yerr=y_err, align='center', alpha=0.5, ecolor='black', capsize=10)\n",
    "plt.hlines(overall, -0.5,4.5, linestyles='dashed')\n",
    "plt.xlabel('num of mets')\n",
    "plt.ylabel('dice score')\n",
    "plt.title('met num')\n",
    "plt.savefig('met_num.png')"
   ]
  },
  {
   "cell_type": "code",
   "execution_count": 28,
   "metadata": {},
   "outputs": [],
   "source": [
    "x = ['1', '2', '3-5', '6-10','11+']\n",
    "y = [0.849, 0.801, 0.808, 0.742, 0.668]\n",
    "overall = 0.198"
   ]
  },
  {
   "cell_type": "code",
   "execution_count": 30,
   "metadata": {},
   "outputs": [
    {
     "data": {
      "image/png": "[encoded data removed]",
      "text/plain": [
       "<Figure size 432x288 with 1 Axes>"
      ]
     },
     "metadata": {
      "needs_background": "light"
     },
     "output_type": "display_data"
    }
   ],
   "source": [
    "plt.bar(x,y,width=0.4,yerr=y_err, align='center', alpha=0.5, ecolor='black', capsize=10)\n",
    "plt.hlines(overall, -0.5,4.5, linestyles='dashed')\n",
    "plt.xlabel('num of mets')\n",
    "plt.ylabel('dice score')\n",
    "plt.title('met num')\n",
    "plt.savefig('met_num.png')"
   ]
  },
  {
   "cell_type": "code",
   "execution_count": null,
   "metadata": {},
   "outputs": [],
   "source": []
  }
 ],
 "metadata": {
  "kernelspec": {
   "display_name": "Python 3",
   "language": "python",
   "name": "python3"
  },
  "language_info": {
   "codemirror_mode": {
    "name": "ipython",
    "version": 3
   },
   "file_extension": ".py",
   "mimetype": "text/x-python",
   "name": "python",
   "nbconvert_exporter": "python",
   "pygments_lexer": "ipython3",
   "version": "3.7.3"
  }
 },
 "nbformat": 4,
 "nbformat_minor": 4
}
