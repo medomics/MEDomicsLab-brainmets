{
 "cells": [
  {
   "cell_type": "code",
   "execution_count": 1,
   "metadata": {},
   "outputs": [
    {
     "name": "stderr",
     "output_type": "stream",
     "text": [
      "Using TensorFlow backend.\n"
     ]
    }
   ],
   "source": [
    "from Brainmets.utils import *\n",
    "from Brainmets.dataset import *\n",
    "from Brainmets.augmentations import Transformer\n",
    "from Brainmets.losses import *\n",
    "from Brainmets.trainer import *\n",
    "from Brainmets.evaluation import *"
   ]
  },
  {
   "cell_type": "code",
   "execution_count": 2,
   "metadata": {},
   "outputs": [
    {
     "name": "stdout",
     "output_type": "stream",
     "text": [
      "[16, 32, 64, 128, 256, 512]\n"
     ]
    }
   ],
   "source": [
    "device = torch.device('cuda: 1')\n",
    "model = ResidualUNet3D(1, 1, True).to(device)\n",
    "model_name = 'trained_models/nearest/Baseline-Diceloss-test_3-0.001/epoch_38_val_score=0.7961517106553521.pth'\n",
    "state_dict = torch.load(model_name)"
   ]
  },
  {
   "cell_type": "code",
   "execution_count": 3,
   "metadata": {},
   "outputs": [
    {
     "data": {
      "text/plain": [
       "<All keys matched successfully>"
      ]
     },
     "execution_count": 3,
     "metadata": {},
     "output_type": "execute_result"
    }
   ],
   "source": [
    "model.load_state_dict(state_dict)"
   ]
  },
  {
   "cell_type": "code",
   "execution_count": 6,
   "metadata": {},
   "outputs": [],
   "source": [
    "data_path = Path('/home/chens/practicum/MEDomicsLab-develop-brainmets/model_training/3_unet_3d_residual/data/')\n",
    "data = 'manuscript_1_datasets_first_tx_necrotic'\n",
    "df = pd.read_csv(data_path/f'{data}.csv')"
   ]
  },
  {
   "cell_type": "code",
   "execution_count": 8,
   "metadata": {},
   "outputs": [],
   "source": [
    "train_df = df[df['split'] == 'train'].sample(frac=1)\n",
    "valid_df = df[df['split'] == 'valid'].sample(frac=1)\n",
    "test_df = df[df['split'] == 'test'].sample(frac=1)\n",
    "\n",
    "train_img_files = list(train_df['img_files'])\n",
    "train_mask_files = list(train_df['mask_files'])\n",
    "valid_img_files = list(valid_df['img_files'])\n",
    "valid_mask_files = list(valid_df['mask_files'])\n",
    "test_img_files = list(test_df['img_files'])\n",
    "test_mask_files = list(test_df['mask_files'])\n",
    "\n",
    "# train_dataset = MetDataSet(train_df)\n",
    "# valid_dataset = MetDataSet(valid_df)\n",
    "# test_dataset = MetDataSet(test_df)"
   ]
  },
  {
   "cell_type": "code",
   "execution_count": 9,
   "metadata": {},
   "outputs": [],
   "source": [
    "from scipy import ndimage"
   ]
  },
  {
   "cell_type": "code",
   "execution_count": 10,
   "metadata": {},
   "outputs": [],
   "source": [
    "structure_array = np.array([[[1,1,1],\n",
    " [1,1,1],\n",
    " [1,1,1]],\n",
    "[[1,1,1],\n",
    " [1,1,1],\n",
    " [1,1,1]],\n",
    "[[1,1,1],\n",
    " [1,1,1],\n",
    " [1,1,1]]])"
   ]
  },
  {
   "cell_type": "code",
   "execution_count": 11,
   "metadata": {},
   "outputs": [],
   "source": [
    "def cm_filter(target, pred):\n",
    "    new_pred = ndimage.label(pred, structure_array)[0]\n",
    "    labels = ndimage.label(pred, structure_array)[0]\n",
    "    index_to_keep = []\n",
    "    \n",
    "    for i in range(1, labels.max()+1):\n",
    "        cm_i = np.round(np.array(ndimage.measurements.center_of_mass(pred, labels, i))).astype(int)\n",
    "        if target[cm_i[0]][cm_i[1]][cm_i[2]]>0:\n",
    "            index_to_keep.append(i)\n",
    "    for index in np.arange(1, labels.max()+1):\n",
    "        if index not in index_to_keep:\n",
    "            new_pred[new_pred==index] = 0\n",
    "        else:\n",
    "            new_pred[new_pred==index] = 1\n",
    "    return new_pred"
   ]
  },
  {
   "cell_type": "code",
   "execution_count": 12,
   "metadata": {},
   "outputs": [],
   "source": [
    "def fp_filter(target, pred):\n",
    "    new_pred = ndimage.label(pred, structure_array)[0]\n",
    "    labels = ndimage.label(pred, structure_array)[0]\n",
    "    index_to_keep = []\n",
    "    \n",
    "    for i in range(1, labels.max()+1):\n",
    "        cm_i = np.round(np.array(ndimage.measurements.center_of_mass(pred, labels, i))).astype(int)\n",
    "        if target[cm_i[0]][cm_i[1]][cm_i[2]]>0:\n",
    "            index_to_keep.append(i)\n",
    "    fp = labels.max()-len(index_to_keep)\n",
    "    return fp"
   ]
  },
  {
   "cell_type": "code",
   "execution_count": 13,
   "metadata": {},
   "outputs": [],
   "source": [
    "def met_volume(image,res):\n",
    "    numMets = np.amax(image)# max number\n",
    "    metNum, counts = np.unique(image.flatten(), return_counts=True)\n",
    "    return np.asarray(counts[1:]*res)"
   ]
  },
  {
   "cell_type": "code",
   "execution_count": 14,
   "metadata": {},
   "outputs": [],
   "source": [
    "def size_filter(mask, size, return_volumes=False, return_labels=False):\n",
    "    new_mask = ndimage.label(mask, structure_array)[0]\n",
    "    volumes = met_volume(new_mask, 0.003)\n",
    "    if return_volumes:\n",
    "        return volumes\n",
    "    index_to_keep = np.arange(1, len(volumes)+1)[np.logical_and(volumes>=size[0], volumes<=size[1])]\n",
    "    for index in np.arange(1, len(volumes)+1):\n",
    "        if index not in index_to_keep:\n",
    "            new_mask[new_mask==index] = 0\n",
    "        elif return_labels:\n",
    "            pass\n",
    "        else:\n",
    "            new_mask[new_mask==index] = 1\n",
    "    return new_mask"
   ]
  },
  {
   "cell_type": "code",
   "execution_count": 15,
   "metadata": {},
   "outputs": [],
   "source": [
    "def location_filter(mask, location, return_locations=False, return_labels=False):\n",
    "    new_mask = ndimage.label(mask, structure_array)[0]\n",
    "    labels = ndimage.label(mask, structure_array)[0]\n",
    "    index_to_keep = []\n",
    "    if return_locations:\n",
    "        locations = []\n",
    "        for i in range(1, labels.max()+1):\n",
    "            cm_i = ndimage.measurements.center_of_mass(mask, labels, i)\n",
    "            if cm_i[0] >= 25 and cm_i[2] < 128 and cm_i[1] >= 150: # right front cortex\n",
    "                locations.append('right_front')\n",
    "            elif cm_i[0] >= 25 and cm_i[2] >= 128 and cm_i[1] >= 150: # left front cortex\n",
    "                locations.append('left_front')\n",
    "            elif cm_i[0] >= 25 and cm_i[2] < 128 and cm_i[1] < 150: # right pos cortex\n",
    "                locations.append('right_pos')\n",
    "            elif cm_i[0] >= 25 and cm_i[2] >= 128 and cm_i[1] < 150: # left pos cortex\n",
    "                locations.append('left_pos')\n",
    "            elif cm_i[0] < 25 and cm_i[2] < 128: # right cerebellum\n",
    "                locations.append('right_cerebellum')\n",
    "            elif cm_i[0] < 25 and cm_i[2] >= 128: # left cerebellum\n",
    "                locations.append('left_cerebellum')\n",
    "        return locations\n",
    "    for i in range(1, labels.max()+1):\n",
    "        cm_i = ndimage.measurements.center_of_mass(mask, labels, i)\n",
    "        if ((location == 'right_front') and (cm_i[0] >= 25 and cm_i[2] < 128 and cm_i[1] >= 150)) or \\\n",
    "           ((location == 'left_front') and (cm_i[0] >= 25 and cm_i[2] >= 128 and cm_i[1] >= 150)) or \\\n",
    "           ((location == 'right_pos') and (cm_i[0] >= 25 and cm_i[2] < 128 and cm_i[1] < 150)) or \\\n",
    "           ((location == 'left_pos') and (cm_i[0] >= 25 and cm_i[2] >= 128 and cm_i[1] < 150)) or \\\n",
    "           ((location == 'right_cerebellum') and (cm_i[0] < 25 and cm_i[2] < 128)) or \\\n",
    "           ((location == 'left_cerebellum') and (cm_i[0] < 25 and cm_i[2] >= 128)):\n",
    "            index_to_keep.append(i)\n",
    "    for index in np.arange(1, len(labels)+1):\n",
    "        if index not in index_to_keep:\n",
    "            new_mask[new_mask==index] = 0\n",
    "        elif return_labels:\n",
    "            pass\n",
    "        else:\n",
    "            new_mask[new_mask==index] = 1\n",
    "    return new_mask"
   ]
  },
  {
   "cell_type": "code",
   "execution_count": 16,
   "metadata": {},
   "outputs": [],
   "source": [
    "class TestMetDataSet(Dataset):\n",
    "    def __init__(self, df, number, size, location, return_labels=False):\n",
    "\n",
    "        self.return_labels = return_labels\n",
    "        self.size = size\n",
    "        self.location = location\n",
    "        if number:\n",
    "            df = df[(df['met_num'] >= number[0]) & (df['met_num'] <= number[1])]\n",
    "            \n",
    "        self.img_files = list(df['img_files'])\n",
    "        self.mask_files = list(df['mask_files'])\n",
    "        self.img_names = ['_'.join(file.split('/')[-1].split('_')[0:2]) for file in self.img_files]\n",
    "        self.mask_names = ['_'.join(file.split('/')[-1].split('_')[0:2]) for file in self.mask_files]\n",
    "    def __len__(self):\n",
    "        return len(self.img_files)\n",
    "    def __getitem__(self, idx):\n",
    "        img = read_and_crop(self.img_files[idx],64,256,256).reshape(1,64,256,256)\n",
    "        mask = read_and_crop(self.mask_files[idx],64,256,256).reshape(1,64,256,256)\n",
    "        if self.size:\n",
    "            mask = size_filter(mask[0], self.size).reshape(1,64,256,256)\n",
    "        if self.location:\n",
    "            mask = location_filter(mask[0], self.location).reshape(1,64,256,256)\n",
    "        if self.return_labels:\n",
    "            return img.copy(), ndimage.label(mask[0], structure_array)[0].reshape(1,64,256,256)\n",
    "        return img.copy(), mask.copy()\n",
    "    def get_name(self,idx):\n",
    "        img_name = self.img_names[idx]\n",
    "        mask_name = self.mask_names[idx]\n",
    "        return img_name,mask_name\n",
    "    def get_volumes(self, idx):\n",
    "        img = read_and_crop(self.img_files[idx],64,256,256).reshape(1,64,256,256)\n",
    "        mask = read_and_crop(self.mask_files[idx],64,256,256).reshape(1,64,256,256)\n",
    "        volumes = size_filter(mask[0], self.size, return_volumes=True)\n",
    "        return volumes\n",
    "    def get_locations(self, idx):\n",
    "        img = read_and_crop(self.img_files[idx],64,256,256).reshape(1,64,256,256)\n",
    "        mask = read_and_crop(self.mask_files[idx],64,256,256).reshape(1,64,256,256)\n",
    "        locations = location_filter(mask[0], self.location, return_locations=True)\n",
    "        return locations"
   ]
  },
  {
   "cell_type": "markdown",
   "metadata": {},
   "source": [
    "### Overall"
   ]
  },
  {
   "cell_type": "code",
   "execution_count": 17,
   "metadata": {},
   "outputs": [],
   "source": [
    "def overall_eval():\n",
    "    metrics = compute_per_channel_dice\n",
    "    model.eval()\n",
    "    total_test_loss = 0\n",
    "    total_test_score = 0\n",
    "    for index, test_batch in tqdm(\n",
    "        enumerate(\n",
    "            test_loader), total=len(\n",
    "            test_loader)):\n",
    "        test_sample_img, test_sample_mask = test_batch\n",
    "        test_sample_img = test_sample_img.to(device).float()\n",
    "        test_sample_mask = test_sample_mask.to(device).float()\n",
    "        del test_batch\n",
    "        gc.collect()\n",
    "        with torch.no_grad():\n",
    "            test_predicted_mask = model(test_sample_img)\n",
    "        test_score = metrics(test_predicted_mask, test_sample_mask)\n",
    "        total_test_score += test_score.item()\n",
    "        del test_sample_img, test_sample_mask, test_predicted_mask, test_score\n",
    "        gc.collect()\n",
    "    print('test_score: ' + str(total_test_score / len(test_dataset)))\n",
    "    torch.cuda.empty_cache()\n",
    "    test_score = total_test_score / len(test_dataset)\n"
   ]
  },
  {
   "cell_type": "code",
   "execution_count": 18,
   "metadata": {},
   "outputs": [],
   "source": [
    "def overall_met_eval():\n",
    "    metrics = compute_per_channel_dice\n",
    "    model.eval()\n",
    "    total_test_loss = 0\n",
    "    total = 0\n",
    "    total_test_score = []\n",
    "    for index, test_batch in tqdm(\n",
    "        enumerate(\n",
    "            test_loader), total=len(\n",
    "            test_loader)):\n",
    "        test_sample_img, test_sample_mask = test_batch\n",
    "        test_sample_img = test_sample_img.to(device).float()\n",
    "        test_sample_mask = test_sample_mask.to(device).float()\n",
    "        del test_batch\n",
    "        gc.collect()\n",
    "        with torch.no_grad():\n",
    "            test_predicted_mask = model(test_sample_img)\n",
    "        for label in range(1, int(test_sample_mask.max())+1):\n",
    "            test_sample_met_mask = test_sample_mask.cpu().numpy()\n",
    "            test_sample_met_mask[(test_sample_met_mask!=label)&(test_sample_met_mask!=0)] = 0\n",
    "            test_sample_met_mask[test_sample_met_mask==label] = 1\n",
    "            test_predicted_met_mask = torch.tensor(cm_filter(test_sample_met_mask[0][0], test_predicted_mask.round().detach().cpu().numpy()[0][0])).reshape(1,1,64,256,256).to(device)\n",
    "            test_sample_met_mask = torch.tensor(test_sample_met_mask).to(device)\n",
    "#             print(test_sample_met_mask.shape)\n",
    "#             print(test_predicted_met_mask.shape)\n",
    "            \n",
    "            test_score = metrics(test_predicted_met_mask, test_sample_met_mask)\n",
    "            total_test_score.append(test_score.item())\n",
    "#             print(test_score.item())\n",
    "            total += 1\n",
    "        del test_sample_img, test_sample_mask, test_predicted_mask, test_score\n",
    "        gc.collect()\n",
    "    print('test_score: ' + str(sum(total_test_score) / total))\n",
    "    print('test_std: ' + str(np.std(total_test_score)))\n",
    "    torch.cuda.empty_cache()"
   ]
  },
  {
   "cell_type": "code",
   "execution_count": 19,
   "metadata": {},
   "outputs": [],
   "source": [
    "def overall_met_fp():\n",
    "    metrics = compute_per_channel_dice\n",
    "    model.eval()\n",
    "    total_test_loss = 0\n",
    "    total_test_score = 0\n",
    "    total_fp = []\n",
    "    for index, test_batch in tqdm(\n",
    "        enumerate(\n",
    "            test_loader), total=len(\n",
    "            test_loader)):\n",
    "        test_sample_img, test_sample_mask = test_batch\n",
    "        test_sample_img = test_sample_img.to(device).float()\n",
    "        test_sample_mask = test_sample_mask.to(device).float()\n",
    "        del test_batch\n",
    "        gc.collect()\n",
    "        with torch.no_grad():\n",
    "            test_predicted_mask = model(test_sample_img)\n",
    "            \n",
    "        fp = fp_filter(test_sample_mask[0][0], test_predicted_mask.round().detach().cpu().numpy()[0][0])\n",
    "#         print(fp)\n",
    "        total_fp.append(fp)\n",
    "        \n",
    "        del test_sample_img, test_sample_mask, test_predicted_mask\n",
    "        gc.collect()\n",
    "    print('total FP: ' + str(sum(total_fp)))\n",
    "    torch.cuda.empty_cache()\n"
   ]
  },
  {
   "cell_type": "code",
   "execution_count": 20,
   "metadata": {},
   "outputs": [
    {
     "name": "stderr",
     "output_type": "stream",
     "text": [
      "100%|██████████| 41/41 [01:39<00:00,  2.43s/it]\n"
     ]
    },
    {
     "name": "stdout",
     "output_type": "stream",
     "text": [
      "test_score: 0.3289998651475367\n",
      "test_std: 0.3907016960073371\n"
     ]
    }
   ],
   "source": [
    "test_dataset = TestMetDataSet(test_df, None, None, None, True)\n",
    "test_loader = DataLoader(test_dataset, batch_size=1, shuffle=False, pin_memory=False, num_workers=4)\n",
    "overall_met_eval()"
   ]
  },
  {
   "cell_type": "code",
   "execution_count": 21,
   "metadata": {},
   "outputs": [
    {
     "name": "stderr",
     "output_type": "stream",
     "text": [
      "100%|██████████| 41/41 [00:37<00:00,  1.08it/s]"
     ]
    },
    {
     "name": "stdout",
     "output_type": "stream",
     "text": [
      "total FP: 72\n"
     ]
    },
    {
     "name": "stderr",
     "output_type": "stream",
     "text": [
      "\n"
     ]
    }
   ],
   "source": [
    "test_dataset = TestMetDataSet(test_df, None, None, None, False)\n",
    "test_loader = DataLoader(test_dataset, batch_size=1, shuffle=False, pin_memory=False, num_workers=4)\n",
    "overall_met_fp()"
   ]
  },
  {
   "cell_type": "markdown",
   "metadata": {},
   "source": [
    "Total Targets: 137"
   ]
  },
  {
   "cell_type": "markdown",
   "metadata": {},
   "source": [
    "### Volume"
   ]
  },
  {
   "cell_type": "code",
   "execution_count": 22,
   "metadata": {},
   "outputs": [],
   "source": [
    "test_dataset = TestMetDataSet(test_df, None, [2, 5], None, return_labels=True)\n",
    "test_loader = DataLoader(test_dataset, batch_size=1, shuffle=False, pin_memory=False, num_workers=4)"
   ]
  },
  {
   "cell_type": "code",
   "execution_count": 23,
   "metadata": {},
   "outputs": [],
   "source": [
    "def volume_eval():\n",
    "    metrics = compute_per_channel_dice\n",
    "    model.eval()\n",
    "    total_test_loss = 0\n",
    "    total = 0\n",
    "    total_test_score = []\n",
    "    for index, test_batch in tqdm(\n",
    "        enumerate(\n",
    "            test_loader), total=len(\n",
    "            test_loader)):\n",
    "        test_sample_img, test_sample_mask = test_batch\n",
    "        test_sample_img = test_sample_img.to(device).float()\n",
    "        test_sample_mask = test_sample_mask.to(device).float()\n",
    "        if test_sample_mask.max() == 1:\n",
    "            total += 1\n",
    "            del test_batch\n",
    "            gc.collect()\n",
    "            with torch.no_grad():\n",
    "                test_predicted_mask = model(test_sample_img)\n",
    "            test_predicted_mask = torch.tensor(cm_filter(test_sample_mask.cpu().numpy()[0][0], test_predicted_mask.round().detach().cpu().numpy()[0][0])).reshape(1,1,64,256,256).to(device)\n",
    "            test_score = metrics(test_predicted_mask, test_sample_mask)\n",
    "#             print(index,'  ', test_score)\n",
    "            total_test_score.append(test_score.item())\n",
    "        #     break\n",
    "            del test_sample_img, test_sample_mask, test_predicted_mask, test_score\n",
    "            gc.collect()\n",
    "    print('test_score: ' + str(sum(total_test_score) / total))\n",
    "    print('test_std: ' + str(np.std(total_test_score) / total))\n",
    "    torch.cuda.empty_cache()\n",
    "    test_score = sum(total_test_score) / total"
   ]
  },
  {
   "cell_type": "code",
   "execution_count": 24,
   "metadata": {},
   "outputs": [],
   "source": [
    "def volume_met_eval():\n",
    "    metrics = compute_per_channel_dice\n",
    "    model.eval()\n",
    "    total_test_loss = 0\n",
    "    total = 0\n",
    "    total_test_score = []\n",
    "    for index, test_batch in tqdm(\n",
    "        enumerate(\n",
    "            test_loader), total=len(\n",
    "            test_loader)):\n",
    "        test_sample_img, test_sample_mask = test_batch\n",
    "        test_sample_img = test_sample_img.to(device).float()\n",
    "        test_sample_mask = test_sample_mask.to(device).float()\n",
    "        if test_sample_mask.max() >= 1:\n",
    "            \n",
    "            del test_batch\n",
    "            gc.collect()\n",
    "            with torch.no_grad():\n",
    "                test_predicted_mask = model(test_sample_img)\n",
    "                \n",
    "#             print(test_sample_mask.max())\n",
    "            for label in range(1, int(test_sample_mask.max())+1):\n",
    "                test_sample_met_mask = test_sample_mask.cpu().numpy()\n",
    "                test_sample_met_mask[(test_sample_met_mask!=label)&(test_sample_met_mask!=0)] = 0\n",
    "                test_sample_met_mask[test_sample_met_mask==label] = 1\n",
    "                test_predicted_met_mask = torch.tensor(cm_filter(test_sample_met_mask[0][0], test_predicted_mask.round().detach().cpu().numpy()[0][0])).reshape(1,1,64,256,256).to(device)\n",
    "                test_sample_met_mask = torch.tensor(test_sample_met_mask).to(device)\n",
    "\n",
    "                test_score = metrics(test_predicted_met_mask, test_sample_met_mask)\n",
    "                total_test_score.append(test_score.item())\n",
    "#                 print(test_score.item())\n",
    "                total += 1\n",
    "                \n",
    "            del test_sample_img, test_sample_mask, test_predicted_mask, test_score\n",
    "            gc.collect()\n",
    "    print('test_score: ' + str(sum(total_test_score) / total))\n",
    "    print('test_std: ' + str(np.std(total_test_score)))\n",
    "    print('total_met: ' + str(total))\n",
    "    torch.cuda.empty_cache()"
   ]
  },
  {
   "cell_type": "code",
   "execution_count": 25,
   "metadata": {},
   "outputs": [
    {
     "name": "stderr",
     "output_type": "stream",
     "text": [
      "100%|██████████| 41/41 [00:38<00:00,  1.05it/s]"
     ]
    },
    {
     "name": "stdout",
     "output_type": "stream",
     "text": [
      "test_score: 0.14200624293189937\n",
      "test_std: 0.2808659254206611\n",
      "total_met: 59\n"
     ]
    },
    {
     "name": "stderr",
     "output_type": "stream",
     "text": [
      "\n"
     ]
    }
   ],
   "source": [
    "test_dataset = TestMetDataSet(test_df, None, [0, 0.1], None, True)\n",
    "test_loader = DataLoader(test_dataset, batch_size=1, shuffle=False, pin_memory=False, num_workers=4)\n",
    "volume_met_eval()"
   ]
  },
  {
   "cell_type": "code",
   "execution_count": 26,
   "metadata": {},
   "outputs": [
    {
     "name": "stderr",
     "output_type": "stream",
     "text": [
      "100%|██████████| 41/41 [00:52<00:00,  1.28s/it]"
     ]
    },
    {
     "name": "stdout",
     "output_type": "stream",
     "text": [
      "test_score: 0.49265640001834893\n",
      "test_std: 0.3823625782615091\n",
      "total_met: 41\n"
     ]
    },
    {
     "name": "stderr",
     "output_type": "stream",
     "text": [
      "\n"
     ]
    }
   ],
   "source": [
    "test_dataset = TestMetDataSet(test_df, None, [0.1, 0.5], None, True)\n",
    "test_loader = DataLoader(test_dataset, batch_size=1, shuffle=False, pin_memory=False, num_workers=4)\n",
    "volume_met_eval()"
   ]
  },
  {
   "cell_type": "code",
   "execution_count": 27,
   "metadata": {},
   "outputs": [
    {
     "name": "stderr",
     "output_type": "stream",
     "text": [
      "100%|██████████| 41/41 [00:21<00:00,  1.95it/s]"
     ]
    },
    {
     "name": "stdout",
     "output_type": "stream",
     "text": [
      "test_score: 0.3270799280567603\n",
      "test_std: 0.39541657131734675\n",
      "total_met: 22\n"
     ]
    },
    {
     "name": "stderr",
     "output_type": "stream",
     "text": [
      "\n"
     ]
    }
   ],
   "source": [
    "test_dataset = TestMetDataSet(test_df, None, [0.5, 2], None, True)\n",
    "test_loader = DataLoader(test_dataset, batch_size=1, shuffle=False, pin_memory=False, num_workers=4)\n",
    "volume_met_eval()"
   ]
  },
  {
   "cell_type": "code",
   "execution_count": 28,
   "metadata": {},
   "outputs": [
    {
     "name": "stderr",
     "output_type": "stream",
     "text": [
      "100%|██████████| 41/41 [00:08<00:00,  5.11it/s]"
     ]
    },
    {
     "name": "stdout",
     "output_type": "stream",
     "text": [
      "test_score: 0.7561164299647013\n",
      "test_std: 0.33851132694213726\n",
      "total_met: 6\n"
     ]
    },
    {
     "name": "stderr",
     "output_type": "stream",
     "text": [
      "\n"
     ]
    }
   ],
   "source": [
    "test_dataset = TestMetDataSet(test_df, None, [2, 5], None, True)\n",
    "test_loader = DataLoader(test_dataset, batch_size=1, shuffle=False, pin_memory=False, num_workers=4)\n",
    "volume_met_eval()"
   ]
  },
  {
   "cell_type": "code",
   "execution_count": 29,
   "metadata": {},
   "outputs": [
    {
     "name": "stderr",
     "output_type": "stream",
     "text": [
      "100%|██████████| 41/41 [00:10<00:00,  3.80it/s]"
     ]
    },
    {
     "name": "stdout",
     "output_type": "stream",
     "text": [
      "test_score: 0.5292493104934692\n",
      "test_std: 0.4109897186691061\n",
      "total_met: 9\n"
     ]
    },
    {
     "name": "stderr",
     "output_type": "stream",
     "text": [
      "\n"
     ]
    }
   ],
   "source": [
    "test_dataset = TestMetDataSet(test_df, None, [5, np.inf], None, True)\n",
    "test_loader = DataLoader(test_dataset, batch_size=1, shuffle=False, pin_memory=False, num_workers=4)\n",
    "volume_met_eval()"
   ]
  },
  {
   "cell_type": "code",
   "execution_count": 30,
   "metadata": {},
   "outputs": [],
   "source": [
    "x = ['0-0.1', '0.1-0.5', '0.5-2', '2-5','5-inf']\n",
    "y = [0.142, 0.493, 0.327, 0.756, 0.529]\n",
    "y_err = [0.281, 0.382, 0.395, 0.339, 0.411]\n",
    "overall = 0.329"
   ]
  },
  {
   "cell_type": "code",
   "execution_count": 31,
   "metadata": {},
   "outputs": [
    {
     "data": {
      "image/png": "[encoded data removed]",
      "text/plain": [
       "<Figure size 432x288 with 1 Axes>"
      ]
     },
     "metadata": {
      "needs_background": "light"
     },
     "output_type": "display_data"
    }
   ],
   "source": [
    "plt.bar(x,y,width=0.4, yerr=y_err, align='center', alpha=0.5, ecolor='black', capsize=10)\n",
    "plt.hlines(overall, -0.5,4.5, linestyles='dashed')\n",
    "plt.xlabel('met volume')\n",
    "plt.ylabel('dice score')\n",
    "plt.title('met volume')\n",
    "plt.savefig('met volume.png')"
   ]
  },
  {
   "cell_type": "code",
   "execution_count": null,
   "metadata": {},
   "outputs": [],
   "source": [
    "for i in range(len(test_sample_mask[0][0])):\n",
    "    plt.imshow(test_sample_mask[0][0][i].cpu())\n",
    "    plt.show()"
   ]
  },
  {
   "cell_type": "code",
   "execution_count": null,
   "metadata": {},
   "outputs": [],
   "source": [
    "for i in range(len(test_predicted_mask[0][0])):\n",
    "    plt.imshow(test_predicted_mask[0][0][i].cpu())\n",
    "    plt.show()"
   ]
  },
  {
   "cell_type": "markdown",
   "metadata": {},
   "source": [
    "### Location"
   ]
  },
  {
   "cell_type": "code",
   "execution_count": 32,
   "metadata": {},
   "outputs": [],
   "source": [
    "test_dataset = TestMetDataSet(test_df, None, None, 'right_front')\n",
    "test_loader = DataLoader(test_dataset, batch_size=1, shuffle=False, pin_memory=False, num_workers=4)"
   ]
  },
  {
   "cell_type": "code",
   "execution_count": 33,
   "metadata": {},
   "outputs": [],
   "source": [
    "def location_eval(location):\n",
    "    metrics = compute_per_channel_dice\n",
    "    model.eval()\n",
    "    total_test_loss = 0\n",
    "    total_test_score = []\n",
    "    total = 0\n",
    "    for index, test_batch in tqdm(\n",
    "        enumerate(\n",
    "            test_loader), total=len(\n",
    "            test_loader)):\n",
    "        test_sample_img, test_sample_mask = test_batch\n",
    "        test_sample_img = test_sample_img.to(device).float()\n",
    "        test_sample_mask = test_sample_mask.to(device).float()\n",
    "        if test_sample_mask.max() == 1:\n",
    "            total += 1\n",
    "            del test_batch\n",
    "            gc.collect()\n",
    "            with torch.no_grad():\n",
    "                test_predicted_mask = model(test_sample_img)\n",
    "    #         if index==4:\n",
    "    #                 break\n",
    "            test_predicted_mask = torch.tensor(location_filter(test_predicted_mask.round().detach().cpu().numpy()[0][0], location)).reshape(1,1,64,256,256).to(device)\n",
    "            test_score = metrics(test_predicted_mask, test_sample_mask)\n",
    "#             print(index,'  ', test_score)\n",
    "            total_test_score.append(test_score.item())\n",
    "        #     break\n",
    "            del test_sample_img, test_sample_mask, test_predicted_mask, test_score\n",
    "            gc.collect()\n",
    "    print('test_score: ' + str(sum(total_test_score) / total))\n",
    "    print('test_std: ' + str(np.std(total_test_score) / total))\n",
    "    torch.cuda.empty_cache()\n",
    "    test_score = sum(total_test_score) / total"
   ]
  },
  {
   "cell_type": "code",
   "execution_count": 34,
   "metadata": {},
   "outputs": [],
   "source": [
    "def location_met_eval(location):\n",
    "    metrics = compute_per_channel_dice\n",
    "    model.eval()\n",
    "    total_test_loss = 0\n",
    "    total_test_score = []\n",
    "    total = 0\n",
    "    for index, test_batch in tqdm(\n",
    "        enumerate(\n",
    "            test_loader), total=len(\n",
    "            test_loader)):\n",
    "        test_sample_img, test_sample_mask = test_batch\n",
    "        test_sample_img = test_sample_img.to(device).float()\n",
    "        test_sample_mask = test_sample_mask.to(device).float()\n",
    "        if test_sample_mask.max() >= 1:\n",
    "            del test_batch\n",
    "            gc.collect()\n",
    "            with torch.no_grad():\n",
    "                test_predicted_mask = model(test_sample_img)\n",
    "            for label in range(1, int(test_sample_mask.max())+1):\n",
    "                test_sample_met_mask = test_sample_mask.cpu().numpy()\n",
    "                test_sample_met_mask[(test_sample_met_mask!=label)&(test_sample_met_mask!=0)] = 0\n",
    "                test_sample_met_mask[test_sample_met_mask==label] = 1\n",
    "                test_predicted_met_mask = torch.tensor(cm_filter(test_sample_met_mask[0][0], test_predicted_mask.round().detach().cpu().numpy()[0][0])).reshape(1,1,64,256,256).to(device)\n",
    "                test_sample_met_mask = torch.tensor(test_sample_met_mask).to(device)\n",
    "\n",
    "                test_score = metrics(test_predicted_met_mask, test_sample_met_mask)\n",
    "                total_test_score.append(test_score.item())\n",
    "#                 print(test_score.item())\n",
    "                total += 1\n",
    "            del test_sample_img, test_sample_mask, test_predicted_mask, test_score\n",
    "            gc.collect()\n",
    "    print('test_score: ' + str(sum(total_test_score) / total))\n",
    "    print('test_std: ' + str(np.std(total_test_score)))\n",
    "    print('total_met: ' + str(total))\n",
    "    torch.cuda.empty_cache()"
   ]
  },
  {
   "cell_type": "code",
   "execution_count": 35,
   "metadata": {},
   "outputs": [
    {
     "name": "stderr",
     "output_type": "stream",
     "text": [
      "100%|██████████| 41/41 [00:25<00:00,  1.62it/s]"
     ]
    },
    {
     "name": "stdout",
     "output_type": "stream",
     "text": [
      "test_score: 0.40853017497630345\n",
      "test_std: 0.41699910885444647\n",
      "total_met: 21\n"
     ]
    },
    {
     "name": "stderr",
     "output_type": "stream",
     "text": [
      "\n"
     ]
    }
   ],
   "source": [
    "test_dataset = TestMetDataSet(test_df, None, None, 'right_front', True)\n",
    "test_loader = DataLoader(test_dataset, batch_size=1, shuffle=False, pin_memory=False, num_workers=4)\n",
    "location_met_eval('right_front')"
   ]
  },
  {
   "cell_type": "code",
   "execution_count": 36,
   "metadata": {},
   "outputs": [
    {
     "name": "stderr",
     "output_type": "stream",
     "text": [
      "100%|██████████| 41/41 [00:20<00:00,  2.01it/s]"
     ]
    },
    {
     "name": "stdout",
     "output_type": "stream",
     "text": [
      "test_score: 0.38288529912630714\n",
      "test_std: 0.37964231278003124\n",
      "total_met: 15\n"
     ]
    },
    {
     "name": "stderr",
     "output_type": "stream",
     "text": [
      "\n"
     ]
    }
   ],
   "source": [
    "test_dataset = TestMetDataSet(test_df, None, None, 'left_front', True)\n",
    "test_loader = DataLoader(test_dataset, batch_size=1, shuffle=False, pin_memory=False, num_workers=4)\n",
    "location_met_eval('left_front')"
   ]
  },
  {
   "cell_type": "code",
   "execution_count": 37,
   "metadata": {},
   "outputs": [
    {
     "name": "stderr",
     "output_type": "stream",
     "text": [
      "100%|██████████| 41/41 [00:23<00:00,  1.74it/s]"
     ]
    },
    {
     "name": "stdout",
     "output_type": "stream",
     "text": [
      "test_score: 0.28537041981789196\n",
      "test_std: 0.3700911361379155\n",
      "total_met: 22\n"
     ]
    },
    {
     "name": "stderr",
     "output_type": "stream",
     "text": [
      "\n"
     ]
    }
   ],
   "source": [
    "test_dataset = TestMetDataSet(test_df, None, None, 'right_pos', True)\n",
    "test_loader = DataLoader(test_dataset, batch_size=1, shuffle=False, pin_memory=False, num_workers=4)\n",
    "location_met_eval('right_pos')"
   ]
  },
  {
   "cell_type": "code",
   "execution_count": 38,
   "metadata": {},
   "outputs": [
    {
     "name": "stderr",
     "output_type": "stream",
     "text": [
      "100%|██████████| 41/41 [00:37<00:00,  1.09it/s]"
     ]
    },
    {
     "name": "stdout",
     "output_type": "stream",
     "text": [
      "test_score: 0.3067327477993109\n",
      "test_std: 0.3918576439859679\n",
      "total_met: 39\n"
     ]
    },
    {
     "name": "stderr",
     "output_type": "stream",
     "text": [
      "\n"
     ]
    }
   ],
   "source": [
    "test_dataset = TestMetDataSet(test_df, None, None, 'left_pos', True)\n",
    "test_loader = DataLoader(test_dataset, batch_size=1, shuffle=False, pin_memory=False, num_workers=4)\n",
    "location_met_eval('left_pos')"
   ]
  },
  {
   "cell_type": "code",
   "execution_count": 39,
   "metadata": {},
   "outputs": [
    {
     "name": "stderr",
     "output_type": "stream",
     "text": [
      "100%|██████████| 41/41 [00:26<00:00,  1.57it/s]\n"
     ]
    },
    {
     "name": "stdout",
     "output_type": "stream",
     "text": [
      "test_score: 0.3793210523823897\n",
      "test_std: 0.3909222921984641\n",
      "total_met: 24\n"
     ]
    }
   ],
   "source": [
    "test_dataset = TestMetDataSet(test_df, None, None, 'right_cerebellum', True)\n",
    "test_loader = DataLoader(test_dataset, batch_size=1, shuffle=False, pin_memory=False, num_workers=4)\n",
    "location_met_eval('right_cerebellum')"
   ]
  },
  {
   "cell_type": "code",
   "execution_count": 40,
   "metadata": {},
   "outputs": [
    {
     "name": "stderr",
     "output_type": "stream",
     "text": [
      "100%|██████████| 41/41 [00:18<00:00,  2.22it/s]"
     ]
    },
    {
     "name": "stdout",
     "output_type": "stream",
     "text": [
      "test_score: 0.2128835441544652\n",
      "test_std: 0.3460095839407753\n",
      "total_met: 16\n"
     ]
    },
    {
     "name": "stderr",
     "output_type": "stream",
     "text": [
      "\n"
     ]
    }
   ],
   "source": [
    "test_dataset = TestMetDataSet(test_df, None, None, 'left_cerebellum', True)\n",
    "test_loader = DataLoader(test_dataset, batch_size=1, shuffle=False, pin_memory=False, num_workers=4)\n",
    "location_met_eval('left_cerebellum')"
   ]
  },
  {
   "cell_type": "code",
   "execution_count": 46,
   "metadata": {},
   "outputs": [],
   "source": [
    "x = ['right_front', 'left_front', 'right_pos', 'left_pos', 'right_cere', 'left_cere']\n",
    "y = [0.409, 0.383, 0.285, 0.307, 0.379, 0.213]\n",
    "y_err = [0.417, 0.379, 0.370, 0.391, 0.39, 0.346]\n",
    "overall = 0.329"
   ]
  },
  {
   "cell_type": "code",
   "execution_count": 47,
   "metadata": {},
   "outputs": [
    {
     "data": {
      "image/png": "[encoded data removed]",
      "text/plain": [
       "<Figure size 432x288 with 1 Axes>"
      ]
     },
     "metadata": {
      "needs_background": "light"
     },
     "output_type": "display_data"
    }
   ],
   "source": [
    "plt.bar(x,y,width=0.4, yerr=y_err, align='center', alpha=0.5, ecolor='black', capsize=10)\n",
    "plt.hlines(overall, -0.5,5.5, linestyles='dashed')\n",
    "plt.xlabel('location')\n",
    "plt.ylabel('dice score')\n",
    "plt.title('location')\n",
    "plt.savefig('location.png')"
   ]
  },
  {
   "cell_type": "code",
   "execution_count": null,
   "metadata": {},
   "outputs": [],
   "source": [
    "for i in range(len(test_sample_mask[0][0])):\n",
    "    plt.imshow(test_sample_mask[0][0][i].cpu())\n",
    "    plt.show()"
   ]
  },
  {
   "cell_type": "code",
   "execution_count": null,
   "metadata": {},
   "outputs": [],
   "source": [
    "for i in range(len(test_predicted_mask[0][0])):\n",
    "    plt.imshow(test_predicted_mask[0][0][i].round().cpu())\n",
    "    plt.show()"
   ]
  },
  {
   "cell_type": "code",
   "execution_count": 21,
   "metadata": {},
   "outputs": [],
   "source": [
    "aha = torch.tensor(location_filter(test_predicted_mask.round().detach().cpu().numpy()[0][0], 'right_front')).reshape(1,1,64,256,256).to(device)"
   ]
  },
  {
   "cell_type": "code",
   "execution_count": null,
   "metadata": {},
   "outputs": [],
   "source": [
    "for i in range(len(test_predicted_mask[0][0])):\n",
    "    plt.imshow(aha[0][0][i].cpu())\n",
    "    plt.show()"
   ]
  },
  {
   "cell_type": "markdown",
   "metadata": {},
   "source": [
    "### Number"
   ]
  },
  {
   "cell_type": "code",
   "execution_count": 49,
   "metadata": {},
   "outputs": [],
   "source": [
    "def num_eval():\n",
    "    for num_bin in [[1,1],[2,2],[3,5],[6,10],[11,np.inf]]:\n",
    "        test_dataset = TestMetDataSet(test_df, num_bin, None, None)\n",
    "        test_loader = DataLoader(test_dataset, batch_size=1, shuffle=False, pin_memory=False, num_workers=4)\n",
    "\n",
    "        metrics = compute_per_channel_dice\n",
    "        model.eval()\n",
    "        total_test_loss = 0\n",
    "        total_test_score = []\n",
    "        for index, test_batch in tqdm(\n",
    "            enumerate(\n",
    "                test_loader), total=len(\n",
    "                test_loader)):\n",
    "            test_sample_img, test_sample_mask = test_batch\n",
    "            test_sample_img = test_sample_img.to(device).float()\n",
    "            test_sample_mask = test_sample_mask.to(device).float()\n",
    "            if test_sample_mask.max() == 1:\n",
    "                del test_batch\n",
    "                gc.collect()\n",
    "                with torch.no_grad():\n",
    "                    test_predicted_mask = model(test_sample_img)\n",
    "                test_score = metrics(test_predicted_mask, test_sample_mask)\n",
    "                total_test_score.append(test_score.item())\n",
    "            #     break\n",
    "                del test_sample_img, test_sample_mask, test_predicted_mask, test_score\n",
    "                gc.collect()\n",
    "        print('bin: ', num_bin)\n",
    "        print('test_score: ' + str(sum(total_test_score) / len(test_dataset)))\n",
    "        print('test_score_std: ' + str(np.std(total_test_score)))\n",
    "        torch.cuda.empty_cache()"
   ]
  },
  {
   "cell_type": "code",
   "execution_count": 50,
   "metadata": {},
   "outputs": [],
   "source": [
    "def num_fp():\n",
    "    for num_bin in [[1,1],[2,2],[3,5],[6,10],[11,np.inf]]:\n",
    "        test_dataset = TestMetDataSet(test_df, num_bin, None, None, False)\n",
    "        test_loader = DataLoader(test_dataset, batch_size=1, shuffle=False, pin_memory=False, num_workers=4)\n",
    "\n",
    "        metrics = compute_per_channel_dice\n",
    "        model.eval()\n",
    "        total_test_loss = 0\n",
    "        total_fp = []\n",
    "        total_num_pred = []\n",
    "        total_num_target = []\n",
    "        for index, test_batch in tqdm(\n",
    "            enumerate(\n",
    "                test_loader), total=len(\n",
    "                test_loader)):\n",
    "            test_sample_img, test_sample_mask = test_batch\n",
    "            test_sample_img = test_sample_img.to(device).float()\n",
    "            test_sample_mask = test_sample_mask.to(device).float()\n",
    "\n",
    "            del test_batch\n",
    "            gc.collect()\n",
    "            with torch.no_grad():\n",
    "                test_predicted_mask = model(test_sample_img)\n",
    "            total_num_target.append(ndimage.label(test_sample_mask.cpu().numpy()[0][0],structure_array)[0].max())\n",
    "            total_num_pred.append(ndimage.label(test_predicted_mask.cpu().numpy()[0][0].round(),structure_array)[0].max())\n",
    "#             return ndimage.label(test_sample_mask.cpu().numpy()[0][0])[0], ndimage.label(test_predicted_mask.cpu().numpy()[0][0].round())[0]\n",
    "#             print(ndimage.label(test_predicted_mask.cpu().numpy()[0][0].round())[0].max())\n",
    "            fp = fp_filter(test_sample_mask[0][0], test_predicted_mask.round().detach().cpu().numpy()[0][0])\n",
    "            total_fp.append(fp)\n",
    "            del test_sample_img, test_sample_mask, test_predicted_mask\n",
    "            gc.collect()\n",
    "        print('bin: ', num_bin)\n",
    "        print('total FP: ' + str(sum(total_fp)))\n",
    "        print('total num predicted: ' + str(sum(total_num_pred)))\n",
    "        print('total num target: ' + str(sum(total_num_target)))\n",
    "    #         print('FP rate: ' + str(sum(total_fp)/len(test_loader)))\n",
    "        torch.cuda.empty_cache()"
   ]
  },
  {
   "cell_type": "code",
   "execution_count": 51,
   "metadata": {},
   "outputs": [
    {
     "name": "stderr",
     "output_type": "stream",
     "text": [
      "100%|██████████| 34/34 [00:36<00:00,  1.07s/it]"
     ]
    },
    {
     "name": "stdout",
     "output_type": "stream",
     "text": [
      "bin:  [1, 1]\n",
      "total FP: 66\n",
      "total num predicted: 115\n",
      "total num target: 107\n"
     ]
    },
    {
     "name": "stderr",
     "output_type": "stream",
     "text": [
      "\n",
      "100%|██████████| 3/3 [00:03<00:00,  1.15s/it]"
     ]
    },
    {
     "name": "stdout",
     "output_type": "stream",
     "text": [
      "bin:  [2, 2]\n",
      "total FP: 2\n",
      "total num predicted: 7\n",
      "total num target: 15\n"
     ]
    },
    {
     "name": "stderr",
     "output_type": "stream",
     "text": [
      "\n",
      "100%|██████████| 4/4 [00:04<00:00,  1.10s/it]"
     ]
    },
    {
     "name": "stdout",
     "output_type": "stream",
     "text": [
      "bin:  [3, 5]\n",
      "total FP: 4\n",
      "total num predicted: 11\n",
      "total num target: 15\n"
     ]
    },
    {
     "name": "stderr",
     "output_type": "stream",
     "text": [
      "\n",
      "0it [00:00, ?it/s]"
     ]
    },
    {
     "name": "stdout",
     "output_type": "stream",
     "text": [
      "bin:  [6, 10]\n",
      "total FP: 0\n",
      "total num predicted: 0\n",
      "total num target: 0\n"
     ]
    },
    {
     "name": "stderr",
     "output_type": "stream",
     "text": [
      "\n",
      "0it [00:00, ?it/s]"
     ]
    },
    {
     "name": "stdout",
     "output_type": "stream",
     "text": [
      "bin:  [11, inf]\n",
      "total FP: 0\n",
      "total num predicted: 0\n",
      "total num target: 0\n"
     ]
    },
    {
     "name": "stderr",
     "output_type": "stream",
     "text": [
      "\n"
     ]
    }
   ],
   "source": [
    "num_fp()"
   ]
  },
  {
   "cell_type": "code",
   "execution_count": null,
   "metadata": {},
   "outputs": [],
   "source": []
  },
  {
   "cell_type": "code",
   "execution_count": null,
   "metadata": {},
   "outputs": [],
   "source": []
  },
  {
   "cell_type": "code",
   "execution_count": 28,
   "metadata": {},
   "outputs": [],
   "source": [
    "x = ['1', '2', '3-5', '6-10','11+']\n",
    "y = [0.849, 0.801, 0.808, 0.742, 0.668]\n",
    "y_err = [0.11, 0.14, 0.12, 0.14, 0.18]\n",
    "overall = 0.791"
   ]
  },
  {
   "cell_type": "code",
   "execution_count": 30,
   "metadata": {},
   "outputs": [
    {
     "data": {
      "image/png": "[encoded data removed]",
      "text/plain": [
       "<Figure size 432x288 with 1 Axes>"
      ]
     },
     "metadata": {
      "needs_background": "light"
     },
     "output_type": "display_data"
    }
   ],
   "source": [
    "plt.bar(x,y,width=0.4,yerr=y_err, align='center', alpha=0.5, ecolor='black', capsize=10)\n",
    "plt.hlines(overall, -0.5,4.5, linestyles='dashed')\n",
    "plt.xlabel('num of mets')\n",
    "plt.ylabel('dice score')\n",
    "plt.title('met num')\n",
    "plt.savefig('met_num.png')"
   ]
  },
  {
   "cell_type": "code",
   "execution_count": 28,
   "metadata": {},
   "outputs": [],
   "source": [
    "x = ['1', '2', '3-5', '6-10','11+']\n",
    "y = [0.849, 0.801, 0.808, 0.742, 0.668]\n",
    "overall = 0.198"
   ]
  },
  {
   "cell_type": "code",
   "execution_count": 30,
   "metadata": {},
   "outputs": [
    {
     "data": {
      "image/png": "[encoded data removed]",
      "text/plain": [
       "<Figure size 432x288 with 1 Axes>"
      ]
     },
     "metadata": {
      "needs_background": "light"
     },
     "output_type": "display_data"
    }
   ],
   "source": [
    "plt.bar(x,y,width=0.4,yerr=y_err, align='center', alpha=0.5, ecolor='black', capsize=10)\n",
    "plt.hlines(overall, -0.5,4.5, linestyles='dashed')\n",
    "plt.xlabel('num of mets')\n",
    "plt.ylabel('dice score')\n",
    "plt.title('met num')\n",
    "plt.savefig('met_num.png')"
   ]
  },
  {
   "cell_type": "code",
   "execution_count": null,
   "metadata": {},
   "outputs": [],
   "source": []
  }
 ],
 "metadata": {
  "kernelspec": {
   "display_name": "Python 3",
   "language": "python",
   "name": "python3"
  },
  "language_info": {
   "codemirror_mode": {
    "name": "ipython",
    "version": 3
   },
   "file_extension": ".py",
   "mimetype": "text/x-python",
   "name": "python",
   "nbconvert_exporter": "python",
   "pygments_lexer": "ipython3",
   "version": "3.7.3"
  }
 },
 "nbformat": 4,
 "nbformat_minor": 4
}
