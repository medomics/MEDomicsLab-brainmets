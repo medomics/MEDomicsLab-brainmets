{
 "cells": [
  {
   "cell_type": "code",
   "execution_count": 18,
   "metadata": {},
   "outputs": [],
   "source": [
    "import pandas as pd\n",
    "import os"
   ]
  },
  {
   "cell_type": "code",
   "execution_count": 19,
   "metadata": {},
   "outputs": [
    {
     "data": {
      "text/plain": [
       "['brain_masks_1x1x3',\n",
       " 'mets_masks_1x1x3',\n",
       " 'skull_stripped_1x1x3',\n",
       " 'images_1x1x3']"
      ]
     },
     "execution_count": 19,
     "metadata": {},
     "output_type": "execute_result"
    }
   ],
   "source": [
    "os.listdir('/data/public/MIM_BMETS_V6/3_final_datasets/manuscript_1_datasets/first_tx_necrotic/training')"
   ]
  },
  {
   "cell_type": "code",
   "execution_count": 20,
   "metadata": {},
   "outputs": [],
   "source": [
    "images = []\n",
    "masks = []\n",
    "for split in ['training','validation','testing']:\n",
    "    image_path = '/data/public/MIM_BMETS_V6/3_final_datasets/manuscript_1_datasets/first_tx_necrotic/' + split + '/skull_stripped_1x1x3/'\n",
    "    mask_path = '/data/public/MIM_BMETS_V6/3_final_datasets/manuscript_1_datasets/first_tx_necrotic/' + split + '/mets_masks_1x1x3/'\n",
    "    images.append([image_path + img for img in os.listdir(image_path)])\n",
    "    masks.append([mask_path + mask for mask in os.listdir(mask_path)])"
   ]
  },
  {
   "cell_type": "code",
   "execution_count": 21,
   "metadata": {},
   "outputs": [],
   "source": [
    "dfs = []\n",
    "for i, split in enumerate(['train','valid','test']):\n",
    "    dfs.append(pd.DataFrame({'img_files': images[i], 'mask_files':masks[i], 'split':[split]*len(images[i])}))"
   ]
  },
  {
   "cell_type": "code",
   "execution_count": 22,
   "metadata": {},
   "outputs": [],
   "source": [
    "df = pd.concat(dfs).reset_index()"
   ]
  },
  {
   "cell_type": "code",
   "execution_count": 6,
   "metadata": {},
   "outputs": [
    {
     "name": "stderr",
     "output_type": "stream",
     "text": [
      "Using TensorFlow backend.\n"
     ]
    }
   ],
   "source": [
    "from Brainmets.utils import *\n",
    "from Brainmets.dataset import *\n",
    "from Brainmets.augmentations import Transformer\n",
    "from Brainmets.losses import *\n",
    "from Brainmets.trainer import *\n",
    "from Brainmets.evaluation import *"
   ]
  },
  {
   "cell_type": "code",
   "execution_count": 24,
   "metadata": {},
   "outputs": [],
   "source": [
    "import scipy.ndimage as ndimage"
   ]
  },
  {
   "cell_type": "code",
   "execution_count": 25,
   "metadata": {},
   "outputs": [],
   "source": [
    "nums = []\n",
    "for i in range(len(df)):\n",
    "    mask_file = df['img_files'][i]\n",
    "    nums.append(ndimage.label(read_and_crop(mask_file,64,256,256))[0].max())"
   ]
  },
  {
   "cell_type": "code",
   "execution_count": 26,
   "metadata": {},
   "outputs": [],
   "source": [
    "df['met_num'] = nums"
   ]
  },
  {
   "cell_type": "code",
   "execution_count": 29,
   "metadata": {},
   "outputs": [],
   "source": [
    "df.drop(columns='index',inplace=True)"
   ]
  },
  {
   "cell_type": "code",
   "execution_count": 32,
   "metadata": {},
   "outputs": [],
   "source": [
    "df.to_csv('/home/chens/practicum/MEDomicsLab-develop-brainmets/model_training/3_unet_3d_residual/data/manuscript_1_datasets_first_tx_necrotic.csv', index=False)"
   ]
  },
  {
   "cell_type": "code",
   "execution_count": null,
   "metadata": {},
   "outputs": [],
   "source": []
  },
  {
   "cell_type": "code",
   "execution_count": null,
   "metadata": {},
   "outputs": [],
   "source": []
  }
 ],
 "metadata": {
  "kernelspec": {
   "display_name": "Python 3",
   "language": "python",
   "name": "python3"
  },
  "language_info": {
   "codemirror_mode": {
    "name": "ipython",
    "version": 3
   },
   "file_extension": ".py",
   "mimetype": "text/x-python",
   "name": "python",
   "nbconvert_exporter": "python",
   "pygments_lexer": "ipython3",
   "version": "3.7.3"
  }
 },
 "nbformat": 4,
 "nbformat_minor": 4
}
