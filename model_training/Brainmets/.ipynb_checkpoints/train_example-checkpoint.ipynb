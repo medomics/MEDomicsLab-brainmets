{
 "cells": [
  {
   "cell_type": "code",
   "execution_count": 1,
   "metadata": {},
   "outputs": [],
   "source": [
    "reset -fs"
   ]
  },
  {
   "cell_type": "code",
   "execution_count": 2,
   "metadata": {},
   "outputs": [
    {
     "name": "stderr",
     "output_type": "stream",
     "text": [
      "Using TensorFlow backend.\n"
     ]
    }
   ],
   "source": [
    "from Brainmets.utils import *\n",
    "from Brainmets.dataset import *\n",
    "from Brainmets.augmentations import Transformer\n",
    "from Brainmets.losses import *\n",
    "from Brainmets.trainer import *\n",
    "from Brainmets.evaluation import *"
   ]
  },
  {
   "cell_type": "code",
   "execution_count": 3,
   "metadata": {},
   "outputs": [],
   "source": [
    "\"\"\"    \n",
    "    epochs: num of epochs to train\n",
    "    name: data mode\n",
    "    suffix: anything to add on the end of the name of the saved model\n",
    "    gpu: gpu to train on\n",
    "    max_lr: max learning rate\n",
    "    loss: loss function to use\n",
    "    pos_weight: pos_weight for WBCE\n",
    "    debug: debug mode or not\n",
    "\"\"\"\n",
    "\n",
    "name = 'Baseline'\n",
    "loss = 'Diceloss'\n",
    "suffix = 'met_all_test_1'\n",
    "# name = '-'.join([name, loss, suffix])\n",
    "# name = 'Baseline-Diceloss-met_1_test_1-0.001'\n",
    "gpu = '3'\n",
    "debug = 'False'\n",
    "\n",
    "debug_size = 20\n",
    "init_lr = 0.001\n",
    "max_lr = 0.001\n",
    "final_div_factor = 100\n",
    "epochs = 50\n",
    "print_per_instance = True\n",
    "use_one_cycle = True\n",
    "\n",
    "met_num = None\n",
    "met_size = None\n",
    "met_location = None\n",
    "\n",
    "final_div_factor = 100\n",
    "div_factor = 5\n",
    "    \n",
    "name = '-'.join(['Baseline', loss, suffix, str(div_factor), str(final_div_factor)])\n",
    "    \n",
    "device = torch.device('cuda:' + gpu)\n"
   ]
  },
  {
   "cell_type": "code",
   "execution_count": 37,
   "metadata": {},
   "outputs": [
    {
     "data": {
      "text/plain": [
       "'Baseline-Diceloss-met_all_test_1-5-100'"
      ]
     },
     "execution_count": 37,
     "metadata": {},
     "output_type": "execute_result"
    }
   ],
   "source": [
    "name"
   ]
  },
  {
   "cell_type": "code",
   "execution_count": 5,
   "metadata": {},
   "outputs": [],
   "source": [
    "data_path = Path('/home/chens/practicum/MEDomicsLab-develop-brainmets/model_training/3_unet_3d_residual/data/')\n",
    "data = 'manuscript_1_datasets_first_tx_allmets'\n",
    "df = pd.read_csv(data_path/f'{data}.csv')"
   ]
  },
  {
   "cell_type": "code",
   "execution_count": 6,
   "metadata": {},
   "outputs": [],
   "source": [
    "train_df = df[df['split']=='train'].sample(frac=1)\n",
    "valid_df = df[df['split']=='valid'].sample(frac=1)\n",
    "test_df = df[df['split']=='test'].sample(frac=1)\n",
    "\n",
    "if met_num:\n",
    "    train_df = train_df[(train_df['met_num']>=int(met_num[0])) & (train_df['met_num']<=int(met_num[1]))]\n",
    "    valid_df = valid_df[(valid_df['met_num']>=int(met_num[0])) & (valid_df['met_num']<=int(met_num[1]))]\n",
    "    test_df = test_df[(test_df['met_num']>=int(met_num[0])) & (test_df['met_num']<=int(met_num[1]))]\n",
    "        \n",
    "train_img_files = list(train_df['img_files'])\n",
    "train_mask_files = list(train_df['mask_files'])\n",
    "valid_img_files = list(valid_df['img_files'])\n",
    "valid_mask_files = list(valid_df['mask_files'])\n",
    "test_img_files = list(test_df['img_files'])\n",
    "test_mask_files = list(test_df['mask_files'])\n",
    "\n",
    "img_files = sorted(train_img_files+valid_img_files+test_img_files)\n",
    "mask_files = sorted(train_mask_files+valid_mask_files+test_mask_files)\n",
    "img_names = ['_'.join(file.split('/')[-1].split('_')[0:2]) for file in img_files]\n",
    "mask_names = ['_'.join(file.split('/')[-1].split('_')[0:2]) for file in mask_files]\n",
    "assert img_names==mask_names"
   ]
  },
  {
   "cell_type": "code",
   "execution_count": 7,
   "metadata": {},
   "outputs": [],
   "source": [
    "# train_transformer = Transformer(axes=['d', 'h', 'w'], max_zoom_rate=1.5, angle=15)\n",
    "train_transformer = None\n",
    "valid_transformer = None\n",
    "test_transformer = None\n",
    "\n",
    "if debug == 'True':\n",
    "    train_dataset = MetDataSet(\n",
    "        train_df.iloc[:debug_size], train_transformer)\n",
    "    valid_dataset = MetDataSet(valid_df.iloc[:debug_size])\n",
    "    test_dataset = MetDataSet(test_df.iloc[:debug_size])\n",
    "else:\n",
    "    train_dataset = MetDataSet(train_df, train_transformer)\n",
    "    valid_dataset = MetDataSet(valid_df)\n",
    "    test_dataset = MetDataSet(test_df)"
   ]
  },
  {
   "cell_type": "code",
   "execution_count": 8,
   "metadata": {},
   "outputs": [
    {
     "name": "stdout",
     "output_type": "stream",
     "text": [
      "train data size:  477\n",
      "valid data size:  99\n",
      "test data size:  110\n"
     ]
    }
   ],
   "source": [
    "print('train data size: ', len(train_dataset))\n",
    "print('valid data size: ', len(valid_dataset))\n",
    "print('test data size: ', len(test_dataset))"
   ]
  },
  {
   "cell_type": "code",
   "execution_count": 9,
   "metadata": {},
   "outputs": [],
   "source": [
    "# Single case test\n",
    "# pair = train_dataset[4]\n",
    "# img, mask = pair[0][0], pair[1][0]"
   ]
  },
  {
   "cell_type": "code",
   "execution_count": 15,
   "metadata": {},
   "outputs": [],
   "source": [
    "# Show Single Slice\n",
    "# show_single_pair(img, mask, 40)"
   ]
  },
  {
   "cell_type": "code",
   "execution_count": 10,
   "metadata": {},
   "outputs": [],
   "source": [
    "# Show Single Image\n",
    "# show_single_image(img, mask)"
   ]
  },
  {
   "cell_type": "code",
   "execution_count": 14,
   "metadata": {},
   "outputs": [],
   "source": [
    "# Show All Images\n",
    "# show_all_images(train_dataset)"
   ]
  },
  {
   "cell_type": "code",
   "execution_count": 15,
   "metadata": {},
   "outputs": [],
   "source": [
    "if loss == 'Diceloss':\n",
    "    loss_func = DiceLoss().to(device)\n",
    "elif loss == 'BCE':\n",
    "    loss_config = {'name': 'BCEWithLogitsLoss'}\n",
    "    config = {'loss': loss_config}\n",
    "    loss_func = get_loss_criterion(config).to(device)\n",
    "elif loss == 'BCE_my':\n",
    "    loss_func = FocalLossLogits().to(device)\n",
    "elif loss == 'Focal':\n",
    "    loss_func = FocalLossLogits(pos_weight=1, gamma=0.5).to(device)\n",
    "elif loss == 'WBCE_my':\n",
    "    loss_func = FocalLossLogits(pos_weight=2).to(device)\n",
    "elif loss == 'WBCE':\n",
    "    pos_weights = torch.tensor(2)\n",
    "    loss_config = {\n",
    "        'name': 'WeightedBCEWithLogitsLoss',\n",
    "        'pos_weight': pos_weights}\n",
    "    config = {'loss': loss_config}\n",
    "    loss_func = get_loss_criterion(config).to(device)\n",
    "elif loss == 'BCEDiceJaccard':\n",
    "    from Brainmets.losses2 import *\n",
    "    weights = {'bce':0.3, 'jacc':0.3, 'dice':0.4}\n",
    "    loss_func = BCEDiceJaccardLoss(weights).to(device)\n"
   ]
  },
  {
   "cell_type": "code",
   "execution_count": 19,
   "metadata": {},
   "outputs": [
    {
     "name": "stdout",
     "output_type": "stream",
     "text": [
      "[16, 32, 64, 128, 256, 512]\n",
      "Selected optimization level O2:  FP16 training with FP32 batchnorm and FP32 master weights.\n",
      "\n",
      "Defaults for this optimization level are:\n",
      "enabled                : True\n",
      "opt_level              : O2\n",
      "cast_model_type        : torch.float16\n",
      "patch_torch_functions  : False\n",
      "keep_batchnorm_fp32    : True\n",
      "master_weights         : True\n",
      "loss_scale             : dynamic\n",
      "Processing user overrides (additional kwargs that are not None)...\n",
      "After processing overrides, optimization options are:\n",
      "enabled                : True\n",
      "opt_level              : O2\n",
      "cast_model_type        : torch.float16\n",
      "patch_torch_functions  : False\n",
      "keep_batchnorm_fp32    : True\n",
      "master_weights         : True\n",
      "loss_scale             : dynamic\n",
      "Warning:  multi_tensor_applier fused unscale kernel is unavailable, possibly because apex was installed without --cuda_ext --cpp_ext. Using Python fallback.  Original ImportError was: ModuleNotFoundError(\"No module named 'amp_C'\")\n"
     ]
    }
   ],
   "source": [
    "trainer = Trainer(\n",
    "    name,\n",
    "    'ResidualUNet3D',\n",
    "    train_dataset,\n",
    "    valid_dataset,\n",
    "    test_dataset,\n",
    "    1,\n",
    "    init_lr,\n",
    "    max_lr,\n",
    "    loss_func,\n",
    "    div_factor,\n",
    "    final_div_factor,\n",
    "    device)"
   ]
  },
  {
   "cell_type": "code",
   "execution_count": null,
   "metadata": {},
   "outputs": [],
   "source": [
    "# torch.load('./results/Baseline-Diceloss-test_1-0.001/epoch_49_val_score=0.7971922566929321.pth')"
   ]
  },
  {
   "cell_type": "code",
   "execution_count": null,
   "metadata": {},
   "outputs": [],
   "source": [
    "torch.load('results/Baseline-Diceloss-met_1_test_1-0.001/epoch_35_val_score=0.7861197385220573.pth')"
   ]
  },
  {
   "cell_type": "code",
   "execution_count": null,
   "metadata": {},
   "outputs": [],
   "source": [
    "trainer.fit(epochs,print_per_instance,use_one_cycle)"
   ]
  },
  {
   "cell_type": "code",
   "execution_count": 22,
   "metadata": {},
   "outputs": [
    {
     "name": "stdout",
     "output_type": "stream",
     "text": [
      "best_epoch:  35\n",
      "['epoch_35_val_score=0.7861197385220573.pth']\n"
     ]
    }
   ],
   "source": [
    "state_dict = Trainer.load_best_checkpoint(name)"
   ]
  },
  {
   "cell_type": "code",
   "execution_count": 23,
   "metadata": {},
   "outputs": [
    {
     "data": {
      "text/plain": [
       "<All keys matched successfully>"
      ]
     },
     "execution_count": 23,
     "metadata": {},
     "output_type": "execute_result"
    }
   ],
   "source": [
    "trainer.model.load_state_dict(state_dict)"
   ]
  },
  {
   "cell_type": "code",
   "execution_count": 24,
   "metadata": {},
   "outputs": [
    {
     "name": "stderr",
     "output_type": "stream",
     "text": [
      "100%|██████████| 110/110 [01:17<00:00,  1.43it/s]"
     ]
    },
    {
     "name": "stdout",
     "output_type": "stream",
     "text": [
      "test_score: 0.6587133188430657\n"
     ]
    },
    {
     "name": "stderr",
     "output_type": "stream",
     "text": [
      "\n"
     ]
    }
   ],
   "source": [
    "test_score = trainer.predict()"
   ]
  },
  {
   "cell_type": "code",
   "execution_count": 21,
   "metadata": {},
   "outputs": [
    {
     "data": {
      "text/plain": [
       "[<matplotlib.lines.Line2D at 0x7f47edec2710>]"
      ]
     },
     "execution_count": 21,
     "metadata": {},
     "output_type": "execute_result"
    },
    {
     "data": {
      "image/png": "[encoded data removed]",
      "text/plain": [
       "<Figure size 432x288 with 1 Axes>"
      ]
     },
     "metadata": {
      "needs_background": "light"
     },
     "output_type": "display_data"
    }
   ],
   "source": [
    "plt.plot(trainer.train_losses)\n",
    "plt.plot(trainer.valid_scores)"
   ]
  }
 ],
 "metadata": {
  "kernelspec": {
   "display_name": "Python 3",
   "language": "python",
   "name": "python3"
  },
  "language_info": {
   "codemirror_mode": {
    "name": "ipython",
    "version": 3
   },
   "file_extension": ".py",
   "mimetype": "text/x-python",
   "name": "python",
   "nbconvert_exporter": "python",
   "pygments_lexer": "ipython3",
   "version": "3.7.3"
  }
 },
 "nbformat": 4,
 "nbformat_minor": 4
}
