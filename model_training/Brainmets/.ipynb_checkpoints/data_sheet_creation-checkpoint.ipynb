{
 "cells": [
  {
   "cell_type": "code",
   "execution_count": 20,
   "metadata": {},
   "outputs": [],
   "source": [
    "import os\n",
    "import pandas as pd"
   ]
  },
  {
   "cell_type": "code",
   "execution_count": 11,
   "metadata": {},
   "outputs": [],
   "source": [
    "data_path = '/data/public/MIM_BMETS_V6/3_final_datasets'"
   ]
  },
  {
   "cell_type": "code",
   "execution_count": 10,
   "metadata": {},
   "outputs": [
    {
     "data": {
      "text/plain": [
       "['met_number_reviewed',\n",
       " 'first_tx_4-5mets_1x1x3_256x256x64',\n",
       " 'first_tx_2mets_1x1x3_256x256x64',\n",
       " 'first_tx_6-10mets_1x1x3_256x256x64',\n",
       " 'first_tx_3mets_1x1x3_256x256x64',\n",
       " 'first_tx_1met_1x1x3_256x256x64',\n",
       " 'manuscript_1_datasets',\n",
       " 'first_tx_11+mets_1x1x3_256x256x64',\n",
       " 'old']"
      ]
     },
     "execution_count": 10,
     "metadata": {},
     "output_type": "execute_result"
    }
   ],
   "source": [
    "os.listdir(data_path)"
   ]
  },
  {
   "cell_type": "code",
   "execution_count": 73,
   "metadata": {},
   "outputs": [],
   "source": [
    "dfs = []\n",
    "for met_num, met_path in zip([1,2,3,4,6,11],['first_tx_1met_1x1x3_256x256x64',\n",
    "                            'first_tx_2mets_1x1x3_256x256x64',\n",
    "                            'first_tx_3mets_1x1x3_256x256x64',\n",
    "                            'first_tx_4-5mets_1x1x3_256x256x64',\n",
    "                            'first_tx_6-10mets_1x1x3_256x256x64',\n",
    "                            'first_tx_11+mets_1x1x3_256x256x64']):\n",
    "    for split, split_path in zip(['test', 'valid', 'train'], ['testing', 'validation', 'training']):\n",
    "        df = pd.DataFrame()\n",
    "        df['mask_files'] = ['/'.join([data_path, met_path, split_path, 'mets_masks_1x1x3', file]) for file in os.listdir('/'.join([data_path, met_path, split_path, 'mets_masks_1x1x3']))]\n",
    "        df['brain_mask_files'] = ['/'.join([data_path, met_path, split_path, 'brain_masks_1x1x3', file]) for file in os.listdir('/'.join([data_path, met_path, split_path, 'brain_masks_1x1x3']))]\n",
    "        df['img_files'] = ['/'.join([data_path, met_path, split_path, 'skull_stripped_1x1x3', file]) for file in os.listdir('/'.join([data_path, met_path, split_path, 'skull_stripped_1x1x3']))]\n",
    "        df['met_num'] = met_num\n",
    "        df['split'] = split\n",
    "        dfs.append(df)"
   ]
  },
  {
   "cell_type": "code",
   "execution_count": 74,
   "metadata": {},
   "outputs": [],
   "source": [
    "original_met_num_data = pd.concat(dfs).reset_index(drop=True)"
   ]
  },
  {
   "cell_type": "code",
   "execution_count": 75,
   "metadata": {},
   "outputs": [],
   "source": [
    "original_met_num_data.to_csv('original_met_num_data.csv',index=False)"
   ]
  },
  {
   "cell_type": "code",
   "execution_count": null,
   "metadata": {},
   "outputs": [],
   "source": [
    "original_met_num_data"
   ]
  },
  {
   "cell_type": "code",
   "execution_count": null,
   "metadata": {},
   "outputs": [],
   "source": []
  }
 ],
 "metadata": {
  "kernelspec": {
   "display_name": "Python 3",
   "language": "python",
   "name": "python3"
  },
  "language_info": {
   "codemirror_mode": {
    "name": "ipython",
    "version": 3
   },
   "file_extension": ".py",
   "mimetype": "text/x-python",
   "name": "python",
   "nbconvert_exporter": "python",
   "pygments_lexer": "ipython3",
   "version": "3.7.3"
  }
 },
 "nbformat": 4,
 "nbformat_minor": 4
}
