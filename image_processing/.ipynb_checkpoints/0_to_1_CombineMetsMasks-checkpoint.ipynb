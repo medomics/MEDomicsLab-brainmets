{
 "cells": [
  {
   "cell_type": "code",
   "execution_count": 6,
   "metadata": {},
   "outputs": [],
   "source": [
    "import sys\n",
    "import os\n",
    "import pydicom\n",
    "from pathlib import Path\n",
    "import scipy.io\n",
    "\n",
    "\n",
    "import matplotlib.pyplot as plt\n",
    "import time\n",
    "import pandas as pd\n",
    "import csv\n",
    "import math\n",
    "import numpy as np\n",
    "\n",
    "from shutil import copyfile"
   ]
  },
  {
   "cell_type": "code",
   "execution_count": 7,
   "metadata": {},
   "outputs": [],
   "source": [
    "pythonCodePATH = '../../MEDomicsLab-develop/Code'\n",
    "sys.path.append(pythonCodePATH)\n",
    "from MEDimage.MEDimage import MEDimage"
   ]
  },
  {
   "cell_type": "markdown",
   "metadata": {},
   "source": [
    "# MIM export folder is '/data/public/MIM_BMETS_V6/export_20191207'\n",
    "# Each directory should contain image scan and rtstruct dicoms"
   ]
  },
  {
   "cell_type": "code",
   "execution_count": 10,
   "metadata": {
    "scrolled": true
   },
   "outputs": [],
   "source": [
    "images_dir = '/data/public/MIM_BMETS_V6/0_mim_export/'#'/data/public/MIM_BMETS_V6/0_mim_export'\n",
    "\n",
    "dir_list = os.listdir(images_dir)\n",
    "if '.DS_Store' in dir_list:\n",
    "        dir_list.remove('.DS_Store')\n",
    "dir_list.sort()\n",
    "\n",
    "all_dirs = iter(dir_list)\n"
   ]
  },
  {
   "cell_type": "code",
   "execution_count": 11,
   "metadata": {},
   "outputs": [
    {
     "data": {
      "text/plain": [
       "2138"
      ]
     },
     "execution_count": 11,
     "metadata": {},
     "output_type": "execute_result"
    }
   ],
   "source": [
    "len(dir_list)"
   ]
  },
  {
   "cell_type": "markdown",
   "metadata": {},
   "source": [
    "# Create a MEDImage obj for each directory and combine masks of all mets\n",
    "# Save MEDImage obj"
   ]
  },
  {
   "cell_type": "code",
   "execution_count": 17,
   "metadata": {
    "scrolled": true
   },
   "outputs": [
    {
     "name": "stdout",
     "output_type": "stream",
     "text": [
      "Reading in dir:  BrainMets-UCSF-01056_20080109\n",
      "0 reading the following roi: {*Skull}\n",
      "1 reading the following roi: {Brain}\n",
      "2 reading the following roi: {Ventricles}\n",
      "ROIs: \n",
      "-> IMAGE SUCCESSFULLY LOADED HERE\n",
      "\n",
      "-> TESTING\n",
      "\n",
      "-> LOAD TIME: 0.6350727081298828 seconds\n",
      "\n",
      "Save MEDImage:  BrainMets-UCSF-01056_20080109\n"
     ]
    }
   ],
   "source": [
    "totStudies = 0\n",
    "allMetsROIs = []\n",
    "totMets = 0\n",
    "#all_dirs = ['2015-06_2__Studies']#dirs # skipped 2011-03__Studies\n",
    "#all_dirs = ['1997-07__Studies']\n",
    "\n",
    "notMetsROIs = ['{Brain}','{Ventricles}','{*Skull}','{optic}','{motor}','{cord}','{External}','{ISOCENTER}', \\\n",
    "             '{avoid}','{Fornix}','{optic_n}','{brain_4gy}','{brain_4GY}','{l-motor}','{brainstem}', \\\n",
    "             '{intcaps}','{ON}','{cyst3}','{olfact}','{chiasm}','{cavity}','{L_optic_n}', \\\n",
    "             '{Avoidance}','{opticpath}','{right_hc}','{old_set}','{test}','{ROI}', \\\n",
    "             '{avoid motor}','{Avoid}','{L optic n}','{14&16}','{2,3,4}']#,'{Target 7}','{Target 6}']\n",
    "\n",
    "for each_dir in dir_list[804:805]:\n",
    "    print('Reading in dir: ',each_dir)\n",
    "    \n",
    "    # read dir\n",
    "    dirFiles = os.listdir(images_dir + '/' + each_dir)\n",
    "    if '.DS_Store' in dirFiles:\n",
    "        dirFiles.remove('.DS_Store')\n",
    "    dirFiles.sort()\n",
    "\n",
    "\n",
    "    # read RTStruct\n",
    "    f = pydicom.read_file(images_dir + '/' + each_dir + '/' + dirFiles[-1], force=True)    \n",
    "    # StructureSetROISequence, number of ROIs\n",
    "    structROIs = f.StructureSetROISequence\n",
    "    nROIs = int(structROIs[-1].ROINumber)\n",
    "    #print('Number of rois: ', structROIs[-1].ROINumber)\n",
    "    \n",
    "    # go through each ROI and sum masks of mets a created 'roiComb' with list of roi indexes to combine\n",
    "    s = 0\n",
    "    roiComb = ''\n",
    "    for j in range(nROIs):\n",
    "        # get roi name and id\n",
    "\n",
    "        #print(rtPath)\n",
    "        roi = '{' + structROIs[j].ROIName + '}'\n",
    "        roiN = structROIs[j].ROINumber\n",
    "\n",
    "        # used for brain mask\n",
    "#         if roi == '{Brain}':\n",
    "#             roiComb = str(roiN -1)\n",
    "#             break\n",
    "        \n",
    "        # skip roi if it is not a targeted met\n",
    "        if roi in notMetsROIs or roi[1]=='*':\n",
    "            continue\n",
    "        # sum mets rois into 1 mask (MASKSdata)\n",
    "        else:\n",
    "            allMetsROIs.append(roi) # save list of ROIs for review\n",
    "            totMets = totMets + 1\n",
    "\n",
    "            #print(j, \"reading the following roi:\", roi )\n",
    "            if roiComb=='':\n",
    "                roiComb = str(roiN -1)\n",
    "            else:\n",
    "                roiComb = roiComb + '+' + str(roiN -1)\n",
    "\n",
    "    rtPath = Path(images_dir + '/' + each_dir)\n",
    "    print('ROIs:',roiComb)\n",
    "    MEDIobj = MEDimage(path_patient=rtPath, name_roi=roiComb, compute_radiomics_features=False, save_modified_image=True)\n",
    "\n",
    "    # save object\n",
    "    outputDir = '/data/public/MIM_BMETS_V6/1_medimage_mets/'\n",
    "    study_name = f.PatientID + '_' + f.StudyDate \n",
    "    MEDIobj.save_MEDimage_object(path_save=outputDir,name_save=study_name,save_radiomics_only=False)\n",
    "    print('Save MEDImage: ', study_name);\n",
    "\n",
    "    "
   ]
  }
 ],
 "metadata": {
  "kernelspec": {
   "display_name": "ventricle",
   "language": "python",
   "name": "ventricle"
  },
  "language_info": {
   "codemirror_mode": {
    "name": "ipython",
    "version": 3
   },
   "file_extension": ".py",
   "mimetype": "text/x-python",
   "name": "python",
   "nbconvert_exporter": "python",
   "pygments_lexer": "ipython3",
   "version": "3.7.4"
  }
 },
 "nbformat": 4,
 "nbformat_minor": 2
}
