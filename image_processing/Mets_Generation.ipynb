{
 "cells": [
  {
   "cell_type": "code",
   "execution_count": 2,
   "metadata": {},
   "outputs": [],
   "source": [
    "import sys\n",
    "sys.path.append('../../image_processing/')\n",
    "\n",
    "import pandas as pd\n",
    "import numpy as np\n",
    "import matplotlib.pyplot as plt\n",
    "import seaborn as sns\n",
    "    \n",
    "# plt.style.use(\"seaborn\")\n",
    "# sns.set(font_scale=1)\n",
    "\n",
    "from pathlib import Path\n",
    "import os\n",
    "import gc\n",
    "import functools \n",
    "from shutil import copyfile\n",
    "from sklearn.model_selection import train_test_split\n",
    "from tqdm import tqdm\n",
    "from apex import amp\n",
    "import dill\n",
    "\n",
    "import os, glob\n",
    "import torch\n",
    "from torch.utils.data import Dataset, DataLoader\n",
    "from torch.autograd import Variable\n",
    "import torch.optim as optim\n",
    "import torch.nn as nn\n",
    "import torch.nn.functional as F\n",
    "import torchvision\n",
    "from torchvision import models\n",
    "from torchsummary import summary\n",
    "# from torch.utils.tensorboard import SummaryWriter\n",
    "\n",
    "from resize import *\n",
    "# from unet3d.model import ResidualUNet3D\n",
    "# from unet3d.losses import *\n",
    "# from unet3d.utils import create_feature_maps\n",
    "# from unet3d.buildingblocks import Encoder, Decoder, FinalConv, ExtResNetBlock, SingleConv\n",
    "\n",
    "# from fastai.vision import *\n"
   ]
  },
  {
   "cell_type": "code",
   "execution_count": 3,
   "metadata": {},
   "outputs": [],
   "source": [
    "data_path = Path('./')\n",
    "train_img_path = data_path/'./manuscript_1_datasets/first_tx_allmets_0-0.5cc/training/skull_stripped_1x1x3'\n",
    "train_mask_path = data_path/'./manuscript_1_datasets/first_tx_allmets_0-0.5cc/training/mets_masks_1x1x3'\n",
    "valid_img_path = data_path/'./manuscript_1_datasets/first_tx_allmets_0-0.5cc/validation/skull_stripped_1x1x3'\n",
    "valid_mask_path = data_path/'./manuscript_1_datasets/first_tx_allmets_0-0.5cc/validation/mets_masks_1x1x3'\n",
    "test_img_path = data_path/'./manuscript_1_datasets/first_tx_allmets_0-0.5cc/testing/skull_stripped_1x1x3'\n",
    "test_mask_path = data_path/'./manuscript_1_datasets/first_tx_allmets_0-0.5cc/testing/mets_masks_1x1x3'\n",
    "\n",
    "\n",
    "train_brain_mask_path = data_path/'./manuscript_1_datasets/first_tx_allmets_0-0.5cc/training/brain_masks_1x1x3'\n",
    "cuda1 = torch.device('cuda: 6')"
   ]
  },
  {
   "cell_type": "code",
   "execution_count": 4,
   "metadata": {},
   "outputs": [],
   "source": [
    "train_img_files = sorted([str(train_img_path/file) for file in os.listdir(train_img_path)])\n",
    "train_mask_files = sorted([str(train_mask_path/mask) for mask in os.listdir(train_mask_path)])\n",
    "valid_img_files = sorted([str(valid_img_path/file) for file in os.listdir(valid_img_path)])\n",
    "valid_mask_files = sorted([str(valid_mask_path/mask) for mask in os.listdir(valid_mask_path)])\n",
    "test_img_files = sorted([str(test_img_path/file) for file in os.listdir(test_img_path)])\n",
    "test_mask_files = sorted([str(test_mask_path/mask) for mask in os.listdir(test_mask_path)])\n",
    "img_files = sorted(train_img_files+valid_img_files+test_img_files)\n",
    "mask_files = sorted(train_mask_files+valid_mask_files+test_mask_files)\n",
    "img_names = ['_'.join(file.split('/')[-1].split('_')[0:2]) for file in img_files]\n",
    "mask_names = ['_'.join(file.split('/')[-1].split('_')[0:2]) for file in mask_files]\n",
    "\n",
    "train_brain_mask_files = sorted([str(train_brain_mask_path/mask) for mask in os.listdir(train_brain_mask_path)])\n",
    "assert img_names==mask_names"
   ]
  },
  {
   "cell_type": "code",
   "execution_count": 5,
   "metadata": {},
   "outputs": [],
   "source": [
    "def show_single_pair(img,mask,index):\n",
    "    figs,axes = plt.subplots(1,2)\n",
    "    axes[0].imshow(img[index])\n",
    "    axes[1].imshow(mask[index])\n",
    "    plt.show()"
   ]
  },
  {
   "cell_type": "code",
   "execution_count": 6,
   "metadata": {},
   "outputs": [],
   "source": [
    "img = np.load(train_img_files[0])\n",
    "mask = np.load(train_mask_files[0])\n",
    "brain_mask = np.load(train_brain_mask_files[0])"
   ]
  },
  {
   "cell_type": "code",
   "execution_count": 7,
   "metadata": {},
   "outputs": [
    {
     "data": {
      "image/png": "[encoded data removed]",
      "text/plain": [
       "<Figure size 432x288 with 2 Axes>"
      ]
     },
     "metadata": {
      "needs_background": "light"
     },
     "output_type": "display_data"
    },
    {
     "data": {
      "image/png": "[encoded data removed]",
      "text/plain": [
       "<Figure size 432x288 with 2 Axes>"
      ]
     },
     "metadata": {
      "needs_background": "light"
     },
     "output_type": "display_data"
    }
   ],
   "source": [
    "show_single_pair(img,mask,mask.argmax()//(256*256)+1)\n",
    "show_single_pair(img,mask,mask.argmax()//(256*256)+2)"
   ]
  },
  {
   "cell_type": "code",
   "execution_count": 8,
   "metadata": {},
   "outputs": [
    {
     "name": "stderr",
     "output_type": "stream",
     "text": [
      "51it [00:03, 16.83it/s]\n"
     ]
    }
   ],
   "source": [
    "mets = []\n",
    "for img_file,mask_file in tqdm(zip(train_img_files,train_mask_files)):\n",
    "    img = np.load(img_file)\n",
    "    mask = np.load(mask_file)\n",
    "    location = np.nonzero(mask)\n",
    "    mets.append((location,img[location]))"
   ]
  },
  {
   "cell_type": "code",
   "execution_count": 9,
   "metadata": {},
   "outputs": [],
   "source": [
    "# show_single_pair(img,brain_mask,43)\n",
    "# show_single_pair(img,mask,44)\n",
    "# for i in range(len(img)):\n",
    "#     show_single_pair(img,mask,i)"
   ]
  },
  {
   "cell_type": "code",
   "execution_count": 14,
   "metadata": {},
   "outputs": [],
   "source": [
    "index=0"
   ]
  },
  {
   "cell_type": "code",
   "execution_count": 25,
   "metadata": {},
   "outputs": [],
   "source": [
    "dill.dump(mets, open('synthetic_mets.pkl','wb'))"
   ]
  },
  {
   "cell_type": "code",
   "execution_count": 15,
   "metadata": {},
   "outputs": [
    {
     "name": "stderr",
     "output_type": "stream",
     "text": [
      "0it [00:00, ?it/s]/home/chens/anaconda3/envs/schen/lib/python3.7/site-packages/ipykernel_launcher.py:17: FutureWarning: Using a non-tuple sequence for multidimensional indexing is deprecated; use `arr[tuple(seq)]` instead of `arr[seq]`. In the future this will be interpreted as an array index, `arr[np.array(seq)]`, which will result either in an error or a different result.\n",
      "/home/chens/anaconda3/envs/schen/lib/python3.7/site-packages/ipykernel_launcher.py:18: FutureWarning: Using a non-tuple sequence for multidimensional indexing is deprecated; use `arr[tuple(seq)]` instead of `arr[seq]`. In the future this will be interpreted as an array index, `arr[np.array(seq)]`, which will result either in an error or a different result.\n",
      "0it [00:00, ?it/s]\n"
     ]
    }
   ],
   "source": [
    "for img_file,brain_mask_file,mask_file in tqdm(zip(train_img_files,train_brain_mask_files,train_mask_files)):\n",
    "    img = np.load(img_file)\n",
    "    mask = np.load(mask_file)\n",
    "    brain_mask = np.load(brain_mask_file)\n",
    "    try:\n",
    "        region = np.nonzero(brain_mask)\n",
    "        random_index = np.random.choice(len(region[0]))\n",
    "        location = [p[random_index] for p in region]\n",
    "        met = mets[np.random.choice(len(mets))]\n",
    "        new_met = list(met)\n",
    "        new_met[0] = list(new_met[0])\n",
    "    #     print(location)\n",
    "    #     print(np.median(met[0][0]))\n",
    "        new_met[0][0]-=(new_met[0][0][int(len(new_met[0][0])/2)]-location[0])\n",
    "        new_met[0][1]-=(new_met[0][1][int(len(new_met[0][0])/2)]-location[1])\n",
    "        new_met[0][2]-=(new_met[0][2][int(len(new_met[0][0])/2)]-location[2])\n",
    "        img[new_met[0]]=new_met[1]\n",
    "        mask[new_met[0]]=1\n",
    "        np.save(img_file.replace('skull_stripped_1x1x3','fake_skull_stripped_1x1x3')+str(index),img*brain_mask)\n",
    "        np.save(mask_file.replace('mets_masks_1x1x3','fake_mets_masks_1x1x3')+str(index),mask*brain_mask)\n",
    "        index += 1\n",
    "    except:\n",
    "        pass\n",
    "    break\n",
    "    \n",
    "#     break"
   ]
  },
  {
   "cell_type": "code",
   "execution_count": null,
   "metadata": {},
   "outputs": [],
   "source": [
    "# show_single_pair(img,brain_mask,43)\n",
    "# show_single_pair(img,mask,44)\n",
    "for i in range(len(img)):\n",
    "    show_single_pair(img*brain_mask,mask*brain_mask,i)\n",
    "#     show_single_pair(img*brain_mask,brain_mask,i)"
   ]
  },
  {
   "cell_type": "code",
   "execution_count": 36,
   "metadata": {},
   "outputs": [],
   "source": [
    "img2 = np.load(train_img_files[1])\n",
    "mask2 = np.load(train_mask_files[1])"
   ]
  },
  {
   "cell_type": "code",
   "execution_count": null,
   "metadata": {},
   "outputs": [],
   "source": [
    "show_single_pair(img2,mask2,42)\n",
    "show_single_pair(img2,mask2,43)\n",
    "show_single_pair(img2,mask2,44)\n",
    "show_single_pair(img2,mask2,45)\n",
    "show_single_pair(img2,mask2,46)"
   ]
  },
  {
   "cell_type": "code",
   "execution_count": 41,
   "metadata": {},
   "outputs": [],
   "source": [
    "img2[np.nonzero(mask)]=img[np.nonzero(mask)]\n",
    "mask2[np.nonzero(mask)]=mask[np.nonzero(mask)]"
   ]
  },
  {
   "cell_type": "code",
   "execution_count": null,
   "metadata": {},
   "outputs": [],
   "source": [
    "show_single_pair(img2,mask2,42)\n",
    "show_single_pair(img2,mask2,43)\n",
    "show_single_pair(img2,mask2,44)\n",
    "show_single_pair(img2,mask2,45)\n",
    "show_single_pair(img2,mask2,46)"
   ]
  },
  {
   "cell_type": "code",
   "execution_count": null,
   "metadata": {},
   "outputs": [],
   "source": []
  }
 ],
 "metadata": {
  "kernelspec": {
   "display_name": "Python 3",
   "language": "python",
   "name": "python3"
  },
  "language_info": {
   "codemirror_mode": {
    "name": "ipython",
    "version": 3
   },
   "file_extension": ".py",
   "mimetype": "text/x-python",
   "name": "python",
   "nbconvert_exporter": "python",
   "pygments_lexer": "ipython3",
   "version": "3.7.3"
  }
 },
 "nbformat": 4,
 "nbformat_minor": 4
}
