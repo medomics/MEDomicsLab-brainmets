{
 "cells": [
  {
   "cell_type": "code",
   "execution_count": 1,
   "metadata": {},
   "outputs": [],
   "source": [
    "import sys\n",
    "sys.path.append('../../image_processing/')\n",
    "\n",
    "import pandas as pd\n",
    "import numpy as np\n",
    "import matplotlib.pyplot as plt\n",
    "import seaborn as sns\n",
    "    \n",
    "# plt.style.use(\"seaborn\")\n",
    "# sns.set(font_scale=1)\n",
    "\n",
    "from pathlib import Path\n",
    "import os\n",
    "import gc\n",
    "import functools \n",
    "from shutil import copyfile\n",
    "from sklearn.model_selection import train_test_split\n",
    "from tqdm import tqdm\n",
    "from apex import amp\n",
    "import dill\n",
    "\n",
    "import os, glob\n",
    "import torch\n",
    "from torch.utils.data import Dataset, DataLoader\n",
    "from torch.autograd import Variable\n",
    "import torch.optim as optim\n",
    "import torch.nn as nn\n",
    "import torch.nn.functional as F\n",
    "import torchvision\n",
    "from torchvision import models\n",
    "from torchsummary import summary\n",
    "from torch.utils.tensorboard import SummaryWriter\n",
    "\n",
    "from resize import *\n",
    "# from unet3d.model import ResidualUNet3D\n",
    "# from unet3d.losses import *\n",
    "# from unet3d.utils import create_feature_maps\n",
    "# from unet3d.buildingblocks import Encoder, Decoder, FinalConv, ExtResNetBlock, SingleConv\n",
    "\n",
    "# from fastai.vision import *\n"
   ]
  },
  {
   "cell_type": "code",
   "execution_count": 2,
   "metadata": {},
   "outputs": [],
   "source": [
    "data_path = Path('/data/public/MIM_BMETS_V6')\n",
    "train_img_path = data_path/'3_final_datasets/manuscript_1_datasets/first_tx_3mets/training/skull_stripped_1x1x3'\n",
    "train_mask_path = data_path/'3_final_datasets/manuscript_1_datasets/first_tx_3mets/training/mets_masks_1x1x3'\n",
    "valid_img_path = data_path/'3_final_datasets/manuscript_1_datasets/first_tx_3mets/validation/skull_stripped_1x1x3'\n",
    "valid_mask_path = data_path/'3_final_datasets/manuscript_1_datasets/first_tx_3mets/validation/mets_masks_1x1x3'\n",
    "test_img_path = data_path/'3_final_datasets/manuscript_1_datasets/first_tx_3mets/testing/skull_stripped_1x1x3'\n",
    "test_mask_path = data_path/'3_final_datasets/manuscript_1_datasets/first_tx_3mets/testing/mets_masks_1x1x3'"
   ]
  },
  {
   "cell_type": "code",
   "execution_count": 3,
   "metadata": {},
   "outputs": [],
   "source": [
    "train_img_files = sorted([str(train_img_path/file) for file in os.listdir(train_img_path)])\n",
    "train_mask_files = sorted([str(train_mask_path/mask) for mask in os.listdir(train_mask_path)])\n",
    "valid_img_files = sorted([str(valid_img_path/file) for file in os.listdir(valid_img_path)])\n",
    "valid_mask_files = sorted([str(valid_mask_path/mask) for mask in os.listdir(valid_mask_path)])\n",
    "test_img_files = sorted([str(test_img_path/file) for file in os.listdir(test_img_path)])\n",
    "test_mask_files = sorted([str(test_mask_path/mask) for mask in os.listdir(test_mask_path)])\n",
    "img_files = sorted(train_img_files+valid_img_files+test_img_files)\n",
    "mask_files = sorted(train_mask_files+valid_mask_files+test_mask_files)\n",
    "img_names = ['_'.join(file.split('/')[-1].split('_')[0:2]) for file in img_files]\n",
    "mask_names = ['_'.join(file.split('/')[-1].split('_')[0:2]) for file in mask_files]\n",
    "train_img_names = ['_'.join(file.split('/')[-1].split('_')[0:2]) for file in train_img_files]\n",
    "train_mask_names = ['_'.join(file.split('/')[-1].split('_')[0:2]) for file in train_mask_files]\n",
    "assert img_names==mask_names"
   ]
  },
  {
   "cell_type": "code",
   "execution_count": 4,
   "metadata": {},
   "outputs": [],
   "source": [
    "def read_and_crop_to_tensor(file,target_d=None,target_h=None,target_w=None):\n",
    "    img = np.load(file)\n",
    "    d, h, w = img.shape\n",
    "    if (target_d == None):\n",
    "        target_d = d\n",
    "    if (target_h == None):\n",
    "        target_h = h\n",
    "    if (target_w == None):\n",
    "        target_w = w\n",
    "    img = xyz_pad(np.load(file),target_d,target_h,target_w)\n",
    "    return img"
   ]
  },
  {
   "cell_type": "code",
   "execution_count": 5,
   "metadata": {},
   "outputs": [],
   "source": [
    "def show_single_pair(img,mask,index):\n",
    "    figs,axes = plt.subplots(1,2)\n",
    "    axes[0].imshow(img[index])\n",
    "    axes[1].imshow(mask[index])"
   ]
  },
  {
   "cell_type": "code",
   "execution_count": 6,
   "metadata": {},
   "outputs": [],
   "source": [
    "img = read_and_crop_to_tensor(train_img_files[0])\n",
    "mask = read_and_crop_to_tensor(train_mask_files[0])"
   ]
  },
  {
   "cell_type": "code",
   "execution_count": 7,
   "metadata": {},
   "outputs": [
    {
     "data": {
      "image/png": "[encoded data removed]",
      "text/plain": [
       "<Figure size 432x288 with 2 Axes>"
      ]
     },
     "metadata": {
      "needs_background": "light"
     },
     "output_type": "display_data"
    }
   ],
   "source": [
    "show_single_pair(img,mask,39)"
   ]
  },
  {
   "cell_type": "markdown",
   "metadata": {},
   "source": [
    "## Flip"
   ]
  },
  {
   "cell_type": "code",
   "execution_count": 8,
   "metadata": {},
   "outputs": [],
   "source": [
    "def flip(x, axis):\n",
    "    \"\"\"flips each slice  along horizontal axis\"\"\"\n",
    "    if axis=='d':\n",
    "        return np.flip(x, axis=0)\n",
    "    if axis=='h':\n",
    "        return np.flip(x, axis=1)\n",
    "    if axis=='w':\n",
    "        return np.flip(x, axis=2)"
   ]
  },
  {
   "cell_type": "markdown",
   "metadata": {},
   "source": [
    "#### depth"
   ]
  },
  {
   "cell_type": "code",
   "execution_count": 9,
   "metadata": {},
   "outputs": [],
   "source": [
    "# flipped_img = flip(img,'d')\n",
    "# flipped_mask = flip(mask,'d')"
   ]
  },
  {
   "cell_type": "code",
   "execution_count": 10,
   "metadata": {},
   "outputs": [],
   "source": [
    "# show_single_pair(img,mask,39)"
   ]
  },
  {
   "cell_type": "code",
   "execution_count": 11,
   "metadata": {},
   "outputs": [],
   "source": [
    "# show_single_pair(np.flip(img, axis=0),np.flip(mask, axis=0),64-39-1)"
   ]
  },
  {
   "cell_type": "markdown",
   "metadata": {},
   "source": [
    "#### height"
   ]
  },
  {
   "cell_type": "code",
   "execution_count": 12,
   "metadata": {},
   "outputs": [],
   "source": [
    "# flipped_img = flip(img,'h')\n",
    "# flipped_mask = flip(mask,'h')"
   ]
  },
  {
   "cell_type": "code",
   "execution_count": 13,
   "metadata": {},
   "outputs": [],
   "source": [
    "# show_single_pair(img,mask,39)"
   ]
  },
  {
   "cell_type": "code",
   "execution_count": 14,
   "metadata": {},
   "outputs": [],
   "source": [
    "# show_single_pair(flipped_img,flipped_mask,39)"
   ]
  },
  {
   "cell_type": "markdown",
   "metadata": {},
   "source": [
    "#### width"
   ]
  },
  {
   "cell_type": "code",
   "execution_count": 15,
   "metadata": {},
   "outputs": [],
   "source": [
    "# flipped_img = flip(img,'w')\n",
    "# flipped_mask = flip(mask,'w')"
   ]
  },
  {
   "cell_type": "code",
   "execution_count": 16,
   "metadata": {},
   "outputs": [],
   "source": [
    "# show_single_pair(img,mask,39)"
   ]
  },
  {
   "cell_type": "code",
   "execution_count": 17,
   "metadata": {},
   "outputs": [],
   "source": [
    "# show_single_pair(flipped_img,flipped_mask,39)"
   ]
  },
  {
   "cell_type": "markdown",
   "metadata": {},
   "source": [
    "## Zoom and Crop"
   ]
  },
  {
   "cell_type": "code",
   "execution_count": 18,
   "metadata": {},
   "outputs": [],
   "source": [
    "from scipy import ndimage"
   ]
  },
  {
   "cell_type": "code",
   "execution_count": 19,
   "metadata": {},
   "outputs": [],
   "source": [
    "def crop_zoom(image, mask, zoom=(1, 1.1, 1.1)):\n",
    "    image = ndimage.zoom(image, zoom)\n",
    "    mask = ndimage.zoom(mask, zoom)\n",
    "    _, x, y = image.shape\n",
    "    cropx, cropy = (x-256)//2, (y-256)//2\n",
    "    image = image[:,cropx+1:x-cropx, cropy+1:y-cropy].copy()\n",
    "    mask = (mask[:,cropx+1:x-cropx, cropy+1:y-cropy].copy() > 0.5).astype(float)\n",
    "    return image, mask"
   ]
  },
  {
   "cell_type": "code",
   "execution_count": 20,
   "metadata": {},
   "outputs": [],
   "source": [
    "# zoomed_img,zoomed_mask = crop_zoom(img,mask)"
   ]
  },
  {
   "cell_type": "code",
   "execution_count": 21,
   "metadata": {},
   "outputs": [],
   "source": [
    "# show_single_pair(img,mask,39)"
   ]
  },
  {
   "cell_type": "code",
   "execution_count": 22,
   "metadata": {},
   "outputs": [],
   "source": [
    "# show_single_pair(zoomed_img,zoomed_mask,39)"
   ]
  },
  {
   "cell_type": "markdown",
   "metadata": {},
   "source": [
    "## Rotate"
   ]
  },
  {
   "cell_type": "code",
   "execution_count": 23,
   "metadata": {},
   "outputs": [],
   "source": [
    "import cv2\n",
    "def random_rotate_3D_transform2(image_voxel, mask_voxel, angle=15):\n",
    "    \"\"\"rotate by +-angle\"\"\"\n",
    "    H, W = mask_voxel.shape[1], mask_voxel.shape[2]\n",
    "    angle = np.random.randint(-angle, angle, size=1)\n",
    "    M = cv2.getRotationMatrix2D((H / 2, W / 2), angle, 1)\n",
    "    image_voxel = np.array([cv2.warpAffine(slice_, M, (H, W)) for slice_ in image_voxel])\n",
    "    mask_voxel = np.array([cv2.warpAffine(slice_, M, (H, W)) for slice_ in mask_voxel])\n",
    "    return image_voxel, mask_voxel"
   ]
  },
  {
   "cell_type": "code",
   "execution_count": 24,
   "metadata": {},
   "outputs": [],
   "source": [
    "# rotated_img,rotated_mask = random_rotate_3D_transform2(img,mask)"
   ]
  },
  {
   "cell_type": "code",
   "execution_count": 25,
   "metadata": {},
   "outputs": [],
   "source": [
    "# show_single_pair(img,mask,39)"
   ]
  },
  {
   "cell_type": "code",
   "execution_count": 26,
   "metadata": {},
   "outputs": [],
   "source": [
    "# show_single_pair(rotated_img,rotated_mask,39)"
   ]
  },
  {
   "cell_type": "markdown",
   "metadata": {},
   "source": [
    "## Transformer"
   ]
  },
  {
   "cell_type": "code",
   "execution_count": 27,
   "metadata": {},
   "outputs": [],
   "source": [
    "from scipy import ndimage\n",
    "import cv2"
   ]
  },
  {
   "cell_type": "code",
   "execution_count": 28,
   "metadata": {},
   "outputs": [],
   "source": [
    "def xy_pad(image,target_h,target_w):\n",
    "    depth, height, width = image.shape\n",
    "    diff_h = int(abs((height - target_h)/2))\n",
    "    diff_w = int(abs((width - target_w)/2))\n",
    "    if height > target_h:\n",
    "        if height % 2 == 0:\n",
    "            image = image[:,diff_h:height-diff_h,:]\n",
    "        else:\n",
    "            image = image[:,diff_h+1:height-diff_h,:]\n",
    "    else:\n",
    "        if height % 2 == 0:\n",
    "            image = np.pad(image, ((0,0),(diff_h,diff_h),(0,0)), 'constant')\n",
    "        else:\n",
    "            image = np.pad(image, ((0,0),(diff_h+1,diff_h),(0,0)), 'constant')\n",
    "    if width > target_w:\n",
    "        if width % 2 == 0:\n",
    "            image = image[:,:,diff_w:width-diff_w]\n",
    "        else:\n",
    "            image = image[:,:,diff_w+1:width-diff_w]\n",
    "    else:\n",
    "        if width % 2 == 0:\n",
    "            image = np.pad(image, ((0,0),(0,0),(diff_w,diff_w)), 'constant')\n",
    "        else:\n",
    "            image = np.pad(image, ((0,0),(0,0),(diff_w+1,diff_w)), 'constant')\n",
    "    return image"
   ]
  },
  {
   "cell_type": "code",
   "execution_count": 29,
   "metadata": {},
   "outputs": [],
   "source": [
    "class Transformer():\n",
    "    \n",
    "    def __init__(self,axis, zoom_rate, angle):\n",
    "        self.zoom_rate = zoom_rate\n",
    "        self.angle = angle\n",
    "        self.axis = axis\n",
    "        \n",
    "#     def transform(self,img,mask):\n",
    "#         pipeline = [self.flip,self.random_rotate_3D_transform2,self.crop_zoom]\n",
    "#         for func in pipeline:\n",
    "#             img,mask = func(img,mask)\n",
    "#         return img,mask\n",
    "    \n",
    "    def flip(self, img, mask):\n",
    "        axis = self.axis\n",
    "        \"\"\"flips each slice  along horizontal axis\"\"\"\n",
    "        if axis=='d':\n",
    "            return np.flip(img, axis=0),np.flip(mask, axis=0)\n",
    "        if axis=='h':\n",
    "            return np.flip(img, axis=1),np.flip(mask, axis=1)\n",
    "        if axis=='w':\n",
    "            return np.flip(img, axis=2),np.flip(mask, axis=2)\n",
    "    \n",
    "    def rotate(self,image_voxel, mask_voxel):\n",
    "        \"\"\"rotate by +-angle\"\"\"\n",
    "        angle = self.angle\n",
    "        H, W = mask_voxel.shape[1], mask_voxel.shape[2]\n",
    "        M = cv2.getRotationMatrix2D((H / 2, W / 2), angle, 1)\n",
    "        image_voxel = np.array([cv2.warpAffine(slice_, M, (H, W)) for slice_ in image_voxel])\n",
    "        mask_voxel = np.array([cv2.warpAffine(slice_, M, (H, W)) for slice_ in mask_voxel])\n",
    "        return image_voxel, mask_voxel\n",
    "    \n",
    "    def crop_zoom(self,image, mask):\n",
    "        zoom = (1,self.zoom_rate,self.zoom_rate)\n",
    "        image = ndimage.zoom(image, zoom)\n",
    "        mask = ndimage.zoom(mask, zoom)\n",
    "        _, x, y = image.shape\n",
    "        if self.zoom_rate>1:\n",
    "            cropx, cropy = (x-256)//2, (y-256)//2\n",
    "            image = image[:,cropx+1:x-cropx, cropy+1:y-cropy].copy()\n",
    "            mask = (mask[:,cropx+1:x-cropx, cropy+1:y-cropy].copy() > 0.5).astype(float)\n",
    "        else:\n",
    "            image = xy_pad(image,256, 256)\n",
    "            mask = xy_pad(mask,256, 256)\n",
    "        return image, mask"
   ]
  },
  {
   "cell_type": "code",
   "execution_count": 30,
   "metadata": {},
   "outputs": [
    {
     "name": "stderr",
     "output_type": "stream",
     "text": [
      "  0%|          | 2/440 [00:00<03:34,  2.04it/s]/home/chens/anaconda3/envs/schen/lib/python3.7/site-packages/scipy/ndimage/interpolation.py:611: UserWarning: From scipy 0.13.0, the output shape of zoom() is calculated with round() instead of int() - for these inputs the size of the returned array has changed.\n",
      "  \"the returned array has changed.\", UserWarning)\n",
      "100%|██████████| 440/440 [13:19<00:00,  1.82s/it]\n"
     ]
    }
   ],
   "source": [
    "transformer = Transformer('h',1,5)\n",
    "for i in tqdm(range(500-len(train_img_files))):\n",
    "    index = np.random.choice(range(len(train_img_files)))\n",
    "    img = read_and_crop_to_tensor(train_img_files[index])\n",
    "    mask = read_and_crop_to_tensor(train_mask_files[index])\n",
    "    probability = np.random.uniform(0,1,3)\n",
    "    if probability[0]>0.5:\n",
    "        transformer.axis = np.random.choice(['h','w'])\n",
    "        img, mask = transformer.flip(img, mask)\n",
    "    if probability[1]>0.5:\n",
    "        transformer.angle = np.random.uniform(-30,30,1)[0]\n",
    "#         print(transformer.angle)\n",
    "        img, mask = transformer.rotate(img, mask)\n",
    "    if probability[2]>0.5:\n",
    "        transformer.zoom_rate = np.random.uniform(0.5,1.5,1)[0]\n",
    "        img, mask = transformer.crop_zoom(img, mask)\n",
    "    img = xy_pad(img,256, 256)\n",
    "    mask = xy_pad(mask,256, 256)\n",
    "    assert 'aug_'+str(i)+'_'+train_img_names[index] == 'aug_'+str(i)+'_'+train_mask_names[index]\n",
    "#     show_single_pair(img,mask,mask.argmax()//(256*256)+2)\n",
    "#     plt.show()\n",
    "    assert img.shape == mask.shape\n",
    "#     print(img.shape)\n",
    "    assert img.shape == (64,256,256)\n",
    "    np.save('./aug_data/3mets-500/training/skull_stripped/'+'aug_'+str(i)+'_'+train_img_names[index],img)\n",
    "    np.save('./aug_data/3mets-500/training/mets_masks/'+'aug_'+str(i)+'_'+train_mask_names[index],mask)"
   ]
  },
  {
   "cell_type": "code",
   "execution_count": null,
   "metadata": {},
   "outputs": [],
   "source": [
    "show_single_pair(img,mask,32)"
   ]
  },
  {
   "cell_type": "code",
   "execution_count": null,
   "metadata": {},
   "outputs": [],
   "source": [
    "len(os.listdir('./aug_data/training/skull_stripped'))"
   ]
  },
  {
   "cell_type": "code",
   "execution_count": null,
   "metadata": {},
   "outputs": [],
   "source": []
  },
  {
   "cell_type": "code",
   "execution_count": null,
   "metadata": {},
   "outputs": [],
   "source": [
    "# def transform(img,mask):\n",
    "#     pipeline = [flip,random_rotate_3D_transform2,crop_zoom]\n",
    "#     for func in pipeline:\n",
    "#         img,mask = func(img,mask)\n",
    "#     return img,mask\n",
    "\n",
    "# def flip(self, img, mask):\n",
    "#     axis = self.axis\n",
    "#     \"\"\"flips each slice  along horizontal axis\"\"\"\n",
    "#     if axis=='d':\n",
    "#         return np.flip(img, axis=0),np.flip(mask, axis=0)\n",
    "#     if axis=='h':\n",
    "#         return np.flip(img, axis=1),np.flip(mask, axis=1)\n",
    "#     if axis=='w':\n",
    "#         return np.flip(img, axis=2),np.flip(mask, axis=2)\n",
    "\n",
    "# def random_rotate_3D_transform2(self,image_voxel, mask_voxel):\n",
    "#     \"\"\"rotate by +-angle\"\"\"\n",
    "#     angle = self.angle\n",
    "#     H, W = mask_voxel.shape[1], mask_voxel.shape[2]\n",
    "#     M = cv2.getRotationMatrix2D((H / 2, W / 2), angle, 1)\n",
    "#     image_voxel = np.array([cv2.warpAffine(slice_, M, (H, W)) for slice_ in image_voxel])\n",
    "#     mask_voxel = np.array([cv2.warpAffine(slice_, M, (H, W)) for slice_ in mask_voxel])\n",
    "#     return image_voxel, mask_voxel\n",
    "\n",
    "# def crop_zoom(self,image, mask):\n",
    "#     zoom = (1,self.zoom_rate,self.zoom_rate)\n",
    "#     image = ndimage.zoom(image, zoom)\n",
    "#     mask = ndimage.zoom(mask, zoom)\n",
    "#     _, x, y = image.shape\n",
    "#     cropx, cropy = (x-256)//2, (y-256)//2\n",
    "#     image = image[:,cropx+1:x-cropx, cropy+1:y-cropy].copy()\n",
    "#     mask = (mask[:,cropx+1:x-cropx, cropy+1:y-cropy].copy() > 0.5).astype(float)\n",
    "#     return image, mask"
   ]
  },
  {
   "cell_type": "code",
   "execution_count": null,
   "metadata": {},
   "outputs": [],
   "source": []
  },
  {
   "cell_type": "code",
   "execution_count": null,
   "metadata": {},
   "outputs": [],
   "source": []
  }
 ],
 "metadata": {
  "kernelspec": {
   "display_name": "Python 3",
   "language": "python",
   "name": "python3"
  },
  "language_info": {
   "codemirror_mode": {
    "name": "ipython",
    "version": 3
   },
   "file_extension": ".py",
   "mimetype": "text/x-python",
   "name": "python",
   "nbconvert_exporter": "python",
   "pygments_lexer": "ipython3",
   "version": "3.7.3"
  }
 },
 "nbformat": 4,
 "nbformat_minor": 4
}
